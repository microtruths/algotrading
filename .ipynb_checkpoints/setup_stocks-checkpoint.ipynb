{
 "cells": [
  {
   "cell_type": "markdown",
   "metadata": {},
   "source": [
    "# Step One: Getting Data"
   ]
  },
  {
   "cell_type": "markdown",
   "metadata": {},
   "source": [
    "### Download stock data and save it as csv"
   ]
  },
  {
   "cell_type": "code",
   "execution_count": 335,
   "metadata": {},
   "outputs": [],
   "source": [
    "# Import requirements\n",
    "import subprocess, os\n",
    "import pandas as pd\n",
    "from sklearn import preprocessing\n",
    "import numpy as np"
   ]
  },
  {
   "cell_type": "code",
   "execution_count": 336,
   "metadata": {},
   "outputs": [],
   "source": [
    "# Choose stock and frequency\n",
    "stock = 'ZIM'\n",
    "freq = 'daily'\n",
    "folder = 'stocks/'"
   ]
  },
  {
   "cell_type": "code",
   "execution_count": 337,
   "metadata": {},
   "outputs": [
    {
     "data": {
      "text/plain": [
       "2"
      ]
     },
     "execution_count": 337,
     "metadata": {},
     "output_type": "execute_result"
    }
   ],
   "source": [
    "# Call save_data_to_csv on stock\n",
    "os.chdir(folder)\n",
    "subprocess.call(['python','{}save_data_to_csv.py'.format(folder), stock, freq])"
   ]
  },
  {
   "cell_type": "code",
   "execution_count": 338,
   "metadata": {},
   "outputs": [
    {
     "name": "stdout",
     "output_type": "stream",
     "text": [
      "/Users/jeffrey_yuan/Documents/8_Projects/algotrading/stocks\n"
     ]
    },
    {
     "data": {
      "text/plain": [
       "['AAPL_daily.csv',\n",
       " 'AAPL_daily_adj.csv',\n",
       " 'AAPL_intraday.csv',\n",
       " 'ABNB_daily.csv',\n",
       " 'ABNB_daily_adj.csv',\n",
       " 'ABNB_intraday.csv',\n",
       " 'MSFT_daily.csv',\n",
       " 'MSFT_daily_adj.csv',\n",
       " 'SQ_daily_adj.csv',\n",
       " 'SQ_intraday.csv',\n",
       " 'TSLA_daily.csv',\n",
       " 'ZIM_daily.csv',\n",
       " 'ZIM_daily_adj.csv',\n",
       " 'ZIM_intraday.csv',\n",
       " 'save_data_to_csv.py']"
      ]
     },
     "execution_count": 338,
     "metadata": {},
     "output_type": "execute_result"
    }
   ],
   "source": [
    "# Show files in directory to confirm new file\n",
    "print(os.getcwd())\n",
    "sorted(os.listdir())"
   ]
  },
  {
   "cell_type": "markdown",
   "metadata": {},
   "source": [
    "### Taking a first look at the daily data"
   ]
  },
  {
   "cell_type": "code",
   "execution_count": 339,
   "metadata": {},
   "outputs": [
    {
     "ename": "FileNotFoundError",
     "evalue": "[Errno 2] File stocks/ZIM_daily.csv does not exist: 'stocks/ZIM_daily.csv'",
     "output_type": "error",
     "traceback": [
      "\u001b[0;31m---------------------------------------------------------------------------\u001b[0m",
      "\u001b[0;31mFileNotFoundError\u001b[0m                         Traceback (most recent call last)",
      "\u001b[0;32m<ipython-input-339-d4947c4ce282>\u001b[0m in \u001b[0;36m<module>\u001b[0;34m\u001b[0m\n\u001b[1;32m      1\u001b[0m \u001b[0mcsv_path\u001b[0m \u001b[0;34m=\u001b[0m \u001b[0;34m\"{}{}_{}.csv\"\u001b[0m\u001b[0;34m.\u001b[0m\u001b[0mformat\u001b[0m\u001b[0;34m(\u001b[0m\u001b[0mfolder\u001b[0m\u001b[0;34m,\u001b[0m \u001b[0mstock\u001b[0m\u001b[0;34m,\u001b[0m \u001b[0mfreq\u001b[0m\u001b[0;34m)\u001b[0m\u001b[0;34m\u001b[0m\u001b[0;34m\u001b[0m\u001b[0m\n\u001b[0;32m----> 2\u001b[0;31m \u001b[0mdaily\u001b[0m \u001b[0;34m=\u001b[0m \u001b[0mpd\u001b[0m\u001b[0;34m.\u001b[0m\u001b[0mread_csv\u001b[0m\u001b[0;34m(\u001b[0m\u001b[0mcsv_path\u001b[0m\u001b[0;34m)\u001b[0m\u001b[0;34m\u001b[0m\u001b[0;34m\u001b[0m\u001b[0m\n\u001b[0m",
      "\u001b[0;32m~/anaconda3/lib/python3.7/site-packages/pandas/io/parsers.py\u001b[0m in \u001b[0;36mparser_f\u001b[0;34m(filepath_or_buffer, sep, delimiter, header, names, index_col, usecols, squeeze, prefix, mangle_dupe_cols, dtype, engine, converters, true_values, false_values, skipinitialspace, skiprows, skipfooter, nrows, na_values, keep_default_na, na_filter, verbose, skip_blank_lines, parse_dates, infer_datetime_format, keep_date_col, date_parser, dayfirst, cache_dates, iterator, chunksize, compression, thousands, decimal, lineterminator, quotechar, quoting, doublequote, escapechar, comment, encoding, dialect, error_bad_lines, warn_bad_lines, delim_whitespace, low_memory, memory_map, float_precision)\u001b[0m\n\u001b[1;32m    674\u001b[0m         )\n\u001b[1;32m    675\u001b[0m \u001b[0;34m\u001b[0m\u001b[0m\n\u001b[0;32m--> 676\u001b[0;31m         \u001b[0;32mreturn\u001b[0m \u001b[0m_read\u001b[0m\u001b[0;34m(\u001b[0m\u001b[0mfilepath_or_buffer\u001b[0m\u001b[0;34m,\u001b[0m \u001b[0mkwds\u001b[0m\u001b[0;34m)\u001b[0m\u001b[0;34m\u001b[0m\u001b[0;34m\u001b[0m\u001b[0m\n\u001b[0m\u001b[1;32m    677\u001b[0m \u001b[0;34m\u001b[0m\u001b[0m\n\u001b[1;32m    678\u001b[0m     \u001b[0mparser_f\u001b[0m\u001b[0;34m.\u001b[0m\u001b[0m__name__\u001b[0m \u001b[0;34m=\u001b[0m \u001b[0mname\u001b[0m\u001b[0;34m\u001b[0m\u001b[0;34m\u001b[0m\u001b[0m\n",
      "\u001b[0;32m~/anaconda3/lib/python3.7/site-packages/pandas/io/parsers.py\u001b[0m in \u001b[0;36m_read\u001b[0;34m(filepath_or_buffer, kwds)\u001b[0m\n\u001b[1;32m    446\u001b[0m \u001b[0;34m\u001b[0m\u001b[0m\n\u001b[1;32m    447\u001b[0m     \u001b[0;31m# Create the parser.\u001b[0m\u001b[0;34m\u001b[0m\u001b[0;34m\u001b[0m\u001b[0;34m\u001b[0m\u001b[0m\n\u001b[0;32m--> 448\u001b[0;31m     \u001b[0mparser\u001b[0m \u001b[0;34m=\u001b[0m \u001b[0mTextFileReader\u001b[0m\u001b[0;34m(\u001b[0m\u001b[0mfp_or_buf\u001b[0m\u001b[0;34m,\u001b[0m \u001b[0;34m**\u001b[0m\u001b[0mkwds\u001b[0m\u001b[0;34m)\u001b[0m\u001b[0;34m\u001b[0m\u001b[0;34m\u001b[0m\u001b[0m\n\u001b[0m\u001b[1;32m    449\u001b[0m \u001b[0;34m\u001b[0m\u001b[0m\n\u001b[1;32m    450\u001b[0m     \u001b[0;32mif\u001b[0m \u001b[0mchunksize\u001b[0m \u001b[0;32mor\u001b[0m \u001b[0miterator\u001b[0m\u001b[0;34m:\u001b[0m\u001b[0;34m\u001b[0m\u001b[0;34m\u001b[0m\u001b[0m\n",
      "\u001b[0;32m~/anaconda3/lib/python3.7/site-packages/pandas/io/parsers.py\u001b[0m in \u001b[0;36m__init__\u001b[0;34m(self, f, engine, **kwds)\u001b[0m\n\u001b[1;32m    878\u001b[0m             \u001b[0mself\u001b[0m\u001b[0;34m.\u001b[0m\u001b[0moptions\u001b[0m\u001b[0;34m[\u001b[0m\u001b[0;34m\"has_index_names\"\u001b[0m\u001b[0;34m]\u001b[0m \u001b[0;34m=\u001b[0m \u001b[0mkwds\u001b[0m\u001b[0;34m[\u001b[0m\u001b[0;34m\"has_index_names\"\u001b[0m\u001b[0;34m]\u001b[0m\u001b[0;34m\u001b[0m\u001b[0;34m\u001b[0m\u001b[0m\n\u001b[1;32m    879\u001b[0m \u001b[0;34m\u001b[0m\u001b[0m\n\u001b[0;32m--> 880\u001b[0;31m         \u001b[0mself\u001b[0m\u001b[0;34m.\u001b[0m\u001b[0m_make_engine\u001b[0m\u001b[0;34m(\u001b[0m\u001b[0mself\u001b[0m\u001b[0;34m.\u001b[0m\u001b[0mengine\u001b[0m\u001b[0;34m)\u001b[0m\u001b[0;34m\u001b[0m\u001b[0;34m\u001b[0m\u001b[0m\n\u001b[0m\u001b[1;32m    881\u001b[0m \u001b[0;34m\u001b[0m\u001b[0m\n\u001b[1;32m    882\u001b[0m     \u001b[0;32mdef\u001b[0m \u001b[0mclose\u001b[0m\u001b[0;34m(\u001b[0m\u001b[0mself\u001b[0m\u001b[0;34m)\u001b[0m\u001b[0;34m:\u001b[0m\u001b[0;34m\u001b[0m\u001b[0;34m\u001b[0m\u001b[0m\n",
      "\u001b[0;32m~/anaconda3/lib/python3.7/site-packages/pandas/io/parsers.py\u001b[0m in \u001b[0;36m_make_engine\u001b[0;34m(self, engine)\u001b[0m\n\u001b[1;32m   1112\u001b[0m     \u001b[0;32mdef\u001b[0m \u001b[0m_make_engine\u001b[0m\u001b[0;34m(\u001b[0m\u001b[0mself\u001b[0m\u001b[0;34m,\u001b[0m \u001b[0mengine\u001b[0m\u001b[0;34m=\u001b[0m\u001b[0;34m\"c\"\u001b[0m\u001b[0;34m)\u001b[0m\u001b[0;34m:\u001b[0m\u001b[0;34m\u001b[0m\u001b[0;34m\u001b[0m\u001b[0m\n\u001b[1;32m   1113\u001b[0m         \u001b[0;32mif\u001b[0m \u001b[0mengine\u001b[0m \u001b[0;34m==\u001b[0m \u001b[0;34m\"c\"\u001b[0m\u001b[0;34m:\u001b[0m\u001b[0;34m\u001b[0m\u001b[0;34m\u001b[0m\u001b[0m\n\u001b[0;32m-> 1114\u001b[0;31m             \u001b[0mself\u001b[0m\u001b[0;34m.\u001b[0m\u001b[0m_engine\u001b[0m \u001b[0;34m=\u001b[0m \u001b[0mCParserWrapper\u001b[0m\u001b[0;34m(\u001b[0m\u001b[0mself\u001b[0m\u001b[0;34m.\u001b[0m\u001b[0mf\u001b[0m\u001b[0;34m,\u001b[0m \u001b[0;34m**\u001b[0m\u001b[0mself\u001b[0m\u001b[0;34m.\u001b[0m\u001b[0moptions\u001b[0m\u001b[0;34m)\u001b[0m\u001b[0;34m\u001b[0m\u001b[0;34m\u001b[0m\u001b[0m\n\u001b[0m\u001b[1;32m   1115\u001b[0m         \u001b[0;32melse\u001b[0m\u001b[0;34m:\u001b[0m\u001b[0;34m\u001b[0m\u001b[0;34m\u001b[0m\u001b[0m\n\u001b[1;32m   1116\u001b[0m             \u001b[0;32mif\u001b[0m \u001b[0mengine\u001b[0m \u001b[0;34m==\u001b[0m \u001b[0;34m\"python\"\u001b[0m\u001b[0;34m:\u001b[0m\u001b[0;34m\u001b[0m\u001b[0;34m\u001b[0m\u001b[0m\n",
      "\u001b[0;32m~/anaconda3/lib/python3.7/site-packages/pandas/io/parsers.py\u001b[0m in \u001b[0;36m__init__\u001b[0;34m(self, src, **kwds)\u001b[0m\n\u001b[1;32m   1889\u001b[0m         \u001b[0mkwds\u001b[0m\u001b[0;34m[\u001b[0m\u001b[0;34m\"usecols\"\u001b[0m\u001b[0;34m]\u001b[0m \u001b[0;34m=\u001b[0m \u001b[0mself\u001b[0m\u001b[0;34m.\u001b[0m\u001b[0musecols\u001b[0m\u001b[0;34m\u001b[0m\u001b[0;34m\u001b[0m\u001b[0m\n\u001b[1;32m   1890\u001b[0m \u001b[0;34m\u001b[0m\u001b[0m\n\u001b[0;32m-> 1891\u001b[0;31m         \u001b[0mself\u001b[0m\u001b[0;34m.\u001b[0m\u001b[0m_reader\u001b[0m \u001b[0;34m=\u001b[0m \u001b[0mparsers\u001b[0m\u001b[0;34m.\u001b[0m\u001b[0mTextReader\u001b[0m\u001b[0;34m(\u001b[0m\u001b[0msrc\u001b[0m\u001b[0;34m,\u001b[0m \u001b[0;34m**\u001b[0m\u001b[0mkwds\u001b[0m\u001b[0;34m)\u001b[0m\u001b[0;34m\u001b[0m\u001b[0;34m\u001b[0m\u001b[0m\n\u001b[0m\u001b[1;32m   1892\u001b[0m         \u001b[0mself\u001b[0m\u001b[0;34m.\u001b[0m\u001b[0munnamed_cols\u001b[0m \u001b[0;34m=\u001b[0m \u001b[0mself\u001b[0m\u001b[0;34m.\u001b[0m\u001b[0m_reader\u001b[0m\u001b[0;34m.\u001b[0m\u001b[0munnamed_cols\u001b[0m\u001b[0;34m\u001b[0m\u001b[0;34m\u001b[0m\u001b[0m\n\u001b[1;32m   1893\u001b[0m \u001b[0;34m\u001b[0m\u001b[0m\n",
      "\u001b[0;32mpandas/_libs/parsers.pyx\u001b[0m in \u001b[0;36mpandas._libs.parsers.TextReader.__cinit__\u001b[0;34m()\u001b[0m\n",
      "\u001b[0;32mpandas/_libs/parsers.pyx\u001b[0m in \u001b[0;36mpandas._libs.parsers.TextReader._setup_parser_source\u001b[0;34m()\u001b[0m\n",
      "\u001b[0;31mFileNotFoundError\u001b[0m: [Errno 2] File stocks/ZIM_daily.csv does not exist: 'stocks/ZIM_daily.csv'"
     ]
    }
   ],
   "source": [
    "os.chdir('..')\n",
    "csv_path = \"{}{}_{}.csv\".format(folder, stock, freq)\n",
    "daily = pd.read_csv(csv_path)"
   ]
  },
  {
   "cell_type": "code",
   "execution_count": null,
   "metadata": {},
   "outputs": [],
   "source": [
    "# See what the data looks like\n",
    "print(daily)\n",
    "for col in daily.columns:\n",
    "    print(col)"
   ]
  },
  {
   "cell_type": "code",
   "execution_count": null,
   "metadata": {},
   "outputs": [],
   "source": [
    "# Print the last 6 days worth of data\n",
    "print(daily[:6])"
   ]
  },
  {
   "cell_type": "code",
   "execution_count": null,
   "metadata": {},
   "outputs": [],
   "source": [
    "# Print just the close\n",
    "print(daily[\"4. close\"][:6])"
   ]
  },
  {
   "cell_type": "code",
   "execution_count": null,
   "metadata": {},
   "outputs": [],
   "source": [
    "# Reverse data to get chronological order\n",
    "rev_daily = daily.iloc[::-1]"
   ]
  },
  {
   "cell_type": "code",
   "execution_count": null,
   "metadata": {},
   "outputs": [],
   "source": [
    "# See what the reversed data looks like\n",
    "print(rev_daily)\n",
    "for col in rev_daily.columns:\n",
    "    print(col)"
   ]
  },
  {
   "cell_type": "markdown",
   "metadata": {},
   "source": [
    "### Looking at daily adjusted data"
   ]
  },
  {
   "cell_type": "code",
   "execution_count": null,
   "metadata": {},
   "outputs": [],
   "source": [
    "# Choose stock and frequency\n",
    "#stock = 'MSFT'\n",
    "freq = 'daily_adj'"
   ]
  },
  {
   "cell_type": "code",
   "execution_count": null,
   "metadata": {},
   "outputs": [],
   "source": [
    "# Call save_data_to_csv on stock\n",
    "os.chdir(folder)\n",
    "subprocess.call(['python','{}save_data_to_csv.py'.format(folder), stock, freq])"
   ]
  },
  {
   "cell_type": "code",
   "execution_count": null,
   "metadata": {},
   "outputs": [],
   "source": [
    "# Show files in directory to confirm new file\n",
    "print(os.getcwd())\n",
    "sorted(os.listdir(folder))"
   ]
  },
  {
   "cell_type": "code",
   "execution_count": null,
   "metadata": {},
   "outputs": [],
   "source": [
    "os.chdir('..')\n",
    "csv_path = \"{}{}_{}.csv\".format(folder, stock, freq)\n",
    "dadj = pd.read_csv(csv_path)"
   ]
  },
  {
   "cell_type": "code",
   "execution_count": null,
   "metadata": {},
   "outputs": [],
   "source": [
    "# See what the data looks like\n",
    "print(dadj)\n",
    "for col in dadj.columns:\n",
    "    print(col)"
   ]
  },
  {
   "cell_type": "code",
   "execution_count": null,
   "metadata": {},
   "outputs": [],
   "source": [
    "# Print the last 6 days worth of data\n",
    "print(dadj[:6])"
   ]
  },
  {
   "cell_type": "code",
   "execution_count": null,
   "metadata": {},
   "outputs": [],
   "source": [
    "# Print just the close\n",
    "print(dadj[\"4. close\"][:6])"
   ]
  },
  {
   "cell_type": "markdown",
   "metadata": {},
   "source": [
    "### Checking out the intraday data"
   ]
  },
  {
   "cell_type": "code",
   "execution_count": null,
   "metadata": {},
   "outputs": [],
   "source": [
    "# Choose stock and frequency\n",
    "#stock = 'AAPL'\n",
    "freq = 'intraday'"
   ]
  },
  {
   "cell_type": "code",
   "execution_count": null,
   "metadata": {},
   "outputs": [],
   "source": [
    "# Call save_data_to_csv on stock\n",
    "os.chdir(folder)\n",
    "subprocess.call(['python','{}save_data_to_csv.py'.format(folder), stock, freq])"
   ]
  },
  {
   "cell_type": "code",
   "execution_count": null,
   "metadata": {},
   "outputs": [],
   "source": [
    "# Show files in directory to confirm new file\n",
    "print(os.getcwd())\n",
    "sorted(os.listdir(folder))"
   ]
  },
  {
   "cell_type": "code",
   "execution_count": null,
   "metadata": {},
   "outputs": [],
   "source": [
    "os.chdir('..')\n",
    "csv_path = \"{}{}_{}.csv\".format(folder, stock, freq)\n",
    "intraday = pd.read_csv(csv_path)"
   ]
  },
  {
   "cell_type": "code",
   "execution_count": null,
   "metadata": {},
   "outputs": [],
   "source": [
    "# See what the data looks like\n",
    "print(intraday)\n",
    "for col in intraday.columns:\n",
    "    print(col)"
   ]
  },
  {
   "cell_type": "code",
   "execution_count": null,
   "metadata": {},
   "outputs": [],
   "source": [
    "# Print the last 6 minutes worth of data (while markets are open)\n",
    "print(intraday[:6])"
   ]
  },
  {
   "cell_type": "code",
   "execution_count": null,
   "metadata": {},
   "outputs": [],
   "source": [
    "# Print just the close\n",
    "print(intraday[\"4. close\"][:6])"
   ]
  },
  {
   "cell_type": "markdown",
   "metadata": {},
   "source": [
    "# Step Two: Calculating Technical Indicators"
   ]
  },
  {
   "cell_type": "markdown",
   "metadata": {},
   "source": [
    "### Averages"
   ]
  },
  {
   "cell_type": "code",
   "execution_count": null,
   "metadata": {},
   "outputs": [],
   "source": [
    "# SMA - Simple Moving Average\n",
    "# Use built-in function to calculate SMA on daily data\n",
    "length = 6\n",
    "#rev_daily = rev_daily.drop(columns=[\"6-day SMA\"])\n",
    "print(rev_daily)\n",
    "rev_daily[\"6-day SMA\"] = rev_daily.rolling(window=length)[\"4. close\"].mean()\n",
    "print(rev_daily)"
   ]
  },
  {
   "cell_type": "code",
   "execution_count": null,
   "metadata": {},
   "outputs": [],
   "source": [
    "# SMA Add Function\n",
    "def add_sma(data, header, length, label):\n",
    "    data[label] = data.rolling(window=length)[header].mean()"
   ]
  },
  {
   "cell_type": "code",
   "execution_count": null,
   "metadata": {},
   "outputs": [],
   "source": [
    "# Test SMA Add Function\n",
    "header = \"4. close\"\n",
    "length = 6\n",
    "label = \"{}-day SMA\".format(length)\n",
    "rev_daily = rev_daily.drop(columns=[label])\n",
    "print(\"Before adding SMA\")\n",
    "print(rev_daily)\n",
    "add_sma(rev_daily, header, length, label)\n",
    "print(\"\\nAfter adding SMA\")\n",
    "print(rev_daily)"
   ]
  },
  {
   "cell_type": "code",
   "execution_count": null,
   "metadata": {},
   "outputs": [],
   "source": [
    "# It is common to look at 50-, 100-, and 200-day moving averages\n",
    "# If 50-day is above 200-day moving average, stock is bullish. A crossover to the downside is bearish.\n",
    "length = 50\n",
    "label = \"{}-day SMA\".format(length)\n",
    "add_sma(rev_daily, header, length, label)\n",
    "length = 100\n",
    "label = \"{}-day SMA\".format(length)\n",
    "add_sma(rev_daily, header, length, label)\n",
    "length = 200\n",
    "label = \"{}-day SMA\".format(length)\n",
    "add_sma(rev_daily, header, length, label)\n",
    "print(rev_daily)"
   ]
  },
  {
   "cell_type": "code",
   "execution_count": null,
   "metadata": {},
   "outputs": [],
   "source": [
    "# EMA - Exponential Moving Average\n",
    "# Use built-in function to calculate EMA on daily data\n",
    "# Note: Span follows the following formula:\n",
    "# Specify decay in terms of span, 𝛼=2/(𝑠𝑝𝑎𝑛+1), for 𝑠𝑝𝑎𝑛≥1.\n",
    "length = 6\n",
    "rev_daily[\"6-day EMA\"] = rev_daily.ewm(span=length)[\"4. close\"].mean()\n",
    "print(rev_daily)"
   ]
  },
  {
   "cell_type": "code",
   "execution_count": null,
   "metadata": {},
   "outputs": [],
   "source": [
    "# EMA Add Function\n",
    "def add_ema(data, header, length, label):\n",
    "    data[label] = data.ewm(span=length)[header].mean()"
   ]
  },
  {
   "cell_type": "code",
   "execution_count": null,
   "metadata": {},
   "outputs": [],
   "source": [
    "# Test EMA Add Function\n",
    "header = \"4. close\"\n",
    "length = 6\n",
    "label = \"{}-day EMA\".format(length)\n",
    "rev_daily = rev_daily.drop(columns=[label])\n",
    "print(\"Before adding EMA\")\n",
    "print(rev_daily)\n",
    "add_ema(rev_daily, header, length, label)\n",
    "print(\"\\nAfter adding EMA\")\n",
    "print(rev_daily)"
   ]
  },
  {
   "cell_type": "code",
   "execution_count": null,
   "metadata": {},
   "outputs": [],
   "source": [
    "# MACD - Moving Average Convergence Divergence\n",
    "# Calculated as MACD = EMA(short) - EMA(long)\n",
    "short = 12\n",
    "long = 26\n",
    "header = \"4. close\"\n",
    "short_lab = \"{}-day EMA\".format(short)\n",
    "long_lab = \"{}-day EMA\".format(long)\n",
    "add_ema(rev_daily, header, short, short_lab)\n",
    "add_ema(rev_daily, header, long, long_lab)\n",
    "rev_daily[\"MACD\"] = rev_daily.loc[:,short_lab] - rev_daily.loc[:,long_lab]\n",
    "print(rev_daily)"
   ]
  },
  {
   "cell_type": "code",
   "execution_count": null,
   "metadata": {},
   "outputs": [],
   "source": [
    "# MACD Add Function\n",
    "def add_macd(data, header, short, short_lab, long, long_lab):\n",
    "    add_ema(data, header, short, short_lab)\n",
    "    add_ema(data, header, long, long_lab)\n",
    "    data[\"MACD\"] = data.loc[:,short_lab] - data.loc[:,long_lab]"
   ]
  },
  {
   "cell_type": "code",
   "execution_count": null,
   "metadata": {},
   "outputs": [],
   "source": [
    "# Test MACD Add Function\n",
    "header = \"4. close\"\n",
    "short = 12\n",
    "long = 26\n",
    "short_lab = \"{}-day EMA\".format(short)\n",
    "long_lab = \"{}-day EMA\".format(long)\n",
    "rev_daily = rev_daily.drop(columns=[\"MACD\"])\n",
    "print(\"Before adding MACD\")\n",
    "print(rev_daily)\n",
    "add_macd(rev_daily, header, short, short_lab, long, long_lab)\n",
    "print(\"\\nAfter adding MACD\")\n",
    "print(rev_daily)"
   ]
  },
  {
   "cell_type": "code",
   "execution_count": null,
   "metadata": {},
   "outputs": [],
   "source": [
    "# MACD signal line\n",
    "macd_sig_head = \"MACD\"\n",
    "macd_sig_len = 9\n",
    "macd_sig_lab = \"9-day MACD EMA\"\n",
    "add_ema(rev_daily, macd_sig_head, macd_sig_len, macd_sig_lab)\n",
    "print(rev_daily)"
   ]
  },
  {
   "cell_type": "markdown",
   "metadata": {},
   "source": [
    "## Plotting MACD"
   ]
  },
  {
   "cell_type": "code",
   "execution_count": null,
   "metadata": {},
   "outputs": [],
   "source": [
    "rev_daily = rev_daily.reset_index()\n",
    "print(rev_daily)"
   ]
  },
  {
   "cell_type": "code",
   "execution_count": null,
   "metadata": {},
   "outputs": [],
   "source": [
    "num_days = 100\n",
    "end_index = rev_daily[\"index\"][0]\n",
    "start_index = end_index - num_days\n",
    "rev_daily.iloc[start_index:end_index + 1].plot(y=[\"4. close\", \"12-day EMA\", \"26-day EMA\"])\n",
    "rev_daily.iloc[start_index:end_index + 1].plot(y=[\"MACD\", \"9-day MACD EMA\"])"
   ]
  },
  {
   "cell_type": "markdown",
   "metadata": {},
   "source": [
    "## MACD decision points"
   ]
  },
  {
   "cell_type": "code",
   "execution_count": null,
   "metadata": {},
   "outputs": [],
   "source": [
    "rev_daily[\"MACD Signals\"] = rev_daily.loc[:,\"MACD\"] - rev_daily.loc[:,\"9-day MACD EMA\"]\n",
    "#print(rev_daily)\n",
    "rev_daily[\"MACD Bull\"] = np.where((rev_daily[\"MACD Signals\"] > 0) & (rev_daily[\"MACD Signals\"].shift() < 0), 1, 0)\n",
    "#print(rev_daily.loc[rev_daily[\"MACD bull\"] == 1])\n",
    "rev_daily[\"MACD Bear\"] = np.where((rev_daily[\"MACD Signals\"] < 0) & (rev_daily[\"MACD Signals\"].shift() > 0), 1, 0)\n",
    "#print(rev_daily.loc[rev_daily[\"MACD bear\"] == 1])\n",
    "print(rev_daily)"
   ]
  },
  {
   "cell_type": "code",
   "execution_count": null,
   "metadata": {},
   "outputs": [],
   "source": [
    "# Change in MACD\n",
    "rev_daily[\"MACD Change\"] = rev_daily[\"MACD\"] - rev_daily[\"MACD\"].shift()\n",
    "print(rev_daily[[\"MACD\", \"9-day MACD EMA\", \"MACD Change\"]])"
   ]
  },
  {
   "cell_type": "code",
   "execution_count": null,
   "metadata": {},
   "outputs": [],
   "source": [
    "# Plot MACD with decision points\n",
    "rev_daily.iloc[start_index:end_index + 1].plot(y=[\"MACD\", \"9-day MACD EMA\"])\n",
    "rev_daily.iloc[start_index:end_index + 1].plot(y=[\"MACD Bull\", \"MACD Bear\"])\n",
    "rev_daily.iloc[start_index:end_index + 1].plot(y=[\"MACD Change\"])\n",
    "#rev_daily.iloc[start_index:end_index + 1].plot(y=[\"MACD Bull\", \"MACD Bear\"], kind=\"bar\", color=[\"green\", \"red\"])\n",
    "## TODO: Bar charts aren't working properly"
   ]
  },
  {
   "cell_type": "markdown",
   "metadata": {},
   "source": [
    "## RSI"
   ]
  },
  {
   "cell_type": "code",
   "execution_count": null,
   "metadata": {},
   "outputs": [],
   "source": [
    "# RSI - Relative Strength Indicator\n",
    "# Magnitude of recent price changes, indicate overbought or oversold conditions\n",
    "# Oscillator with values from 0 to 100\n",
    "# Over-bought/over-valued: RSI >= 70\n",
    "# Under-bought/under-valued: RSI <= 30\n",
    "# Need change in price per period\n",
    "rev_daily[\"Close Change\"] = rev_daily[\"4. close\"] - rev_daily[\"4. close\"].shift()\n",
    "rev_daily[\"Up Changes\"] = np.where(rev_daily[\"Close Change\"] > 0, rev_daily[\"Close Change\"], 0)\n",
    "rev_daily[\"Down Changes\"] = np.where(rev_daily[\"Close Change\"] < 0, abs(rev_daily[\"Close Change\"]), 0)\n",
    "rsi_length = 14\n",
    "add_sma(rev_daily, \"Up Changes\", rsi_length, \"Up Avg\")\n",
    "add_sma(rev_daily, \"Down Changes\", rsi_length, \"Down Avg\")\n",
    "rev_daily[\"RSI\"] = 100 - (100 / (1 + (rev_daily[\"Up Avg\"] / rev_daily[\"Down Avg\"])))\n",
    "print(rev_daily)"
   ]
  },
  {
   "cell_type": "code",
   "execution_count": null,
   "metadata": {},
   "outputs": [],
   "source": [
    "# RSI Add Function\n",
    "def add_rsi(data, header, length, label):\n",
    "    data[\"Close Change\"] = data[header] - data[header].shift()\n",
    "    data[\"Up Changes\"] = np.where(data[\"Close Change\"] > 0, data[\"Close Change\"], 0)\n",
    "    data[\"Down Changes\"] = np.where(data[\"Close Change\"] < 0, abs(data[\"Close Change\"]), 0)\n",
    "    add_sma(data, \"Up Changes\", length, \"Up Avg\")\n",
    "    add_sma(data, \"Down Changes\", length, \"Down Avg\")\n",
    "    data[label] = 100 - (100 / (1 + (rev_daily[\"Up Avg\"] / rev_daily[\"Down Avg\"])))\n",
    "    data = data.drop(columns=[\"Close Change\", \"Up Changes\", \"Down Changes\", \"Up Avg\", \"Down Avg\"])"
   ]
  },
  {
   "cell_type": "code",
   "execution_count": null,
   "metadata": {},
   "outputs": [],
   "source": [
    "# Test RSI Add Function\n",
    "header = \"4. close\"\n",
    "length = 14\n",
    "label = \"14-day RSI\"\n",
    "rev_daily = rev_daily.drop(columns=[\"Close Change\", \"Up Changes\", \"Down Changes\", \"Up Avg\", \"Down Avg\"])\n",
    "print(\"Before adding RSI\")\n",
    "print(rev_daily)\n",
    "add_rsi(rev_daily, header, length, label)\n",
    "print(\"\\nAfter adding RSI\")\n",
    "print(rev_daily)"
   ]
  },
  {
   "cell_type": "markdown",
   "metadata": {},
   "source": [
    "## RSI Decision Points"
   ]
  },
  {
   "cell_type": "code",
   "execution_count": null,
   "metadata": {},
   "outputs": [],
   "source": [
    "rev_daily[\"RSI Overbought\"] = np.where(rev_daily[\"RSI\"] >= 70, 1, 0)\n",
    "rev_daily[\"RSI Oversold\"] = np.where(rev_daily[\"RSI\"] <= 30, 1, 0)\n",
    "print(rev_daily)"
   ]
  },
  {
   "cell_type": "code",
   "execution_count": null,
   "metadata": {},
   "outputs": [],
   "source": [
    "# Plot RSI with decision points\n",
    "rev_daily.iloc[start_index:end_index + 1].plot(y=[\"RSI\"])\n",
    "rev_daily.iloc[start_index:end_index + 1].plot(y=[\"RSI Overbought\", \"RSI Oversold\"])\n",
    "#rev_daily.iloc[start_index:end_index + 1].plot(y=[\"RSI Overbought\", \"RSI Oversold\"], kind=\"bar\", color=[\"red\", \"green\"])"
   ]
  },
  {
   "cell_type": "code",
   "execution_count": null,
   "metadata": {},
   "outputs": [],
   "source": [
    "# All plots together\n",
    "num_days = 100\n",
    "end_index = rev_daily[\"index\"][0]\n",
    "start_index = end_index - num_days\n",
    "rev_daily.iloc[start_index:end_index + 1].plot(y=[\"4. close\", \"12-day EMA\", \"26-day EMA\"])\n",
    "rev_daily.iloc[start_index:end_index + 1].plot(y=[\"MACD\", \"9-day MACD EMA\"])\n",
    "rev_daily.iloc[start_index:end_index + 1].plot(y=[\"MACD Bull\", \"MACD Bear\"], color=[\"g\", \"r\"])\n",
    "rev_daily.iloc[start_index:end_index + 1].plot(y=[\"RSI\"])\n",
    "rev_daily.iloc[start_index:end_index + 1].plot(y=[\"RSI Overbought\", \"RSI Oversold\"], color=[\"g\", \"r\"])"
   ]
  },
  {
   "cell_type": "code",
   "execution_count": null,
   "metadata": {},
   "outputs": [],
   "source": []
  }
 ],
 "metadata": {
  "kernelspec": {
   "display_name": "Python 3",
   "language": "python",
   "name": "python3"
  },
  "language_info": {
   "codemirror_mode": {
    "name": "ipython",
    "version": 3
   },
   "file_extension": ".py",
   "mimetype": "text/x-python",
   "name": "python",
   "nbconvert_exporter": "python",
   "pygments_lexer": "ipython3",
   "version": "3.7.6"
  }
 },
 "nbformat": 4,
 "nbformat_minor": 4
}
