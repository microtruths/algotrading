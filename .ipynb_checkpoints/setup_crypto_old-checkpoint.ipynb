{
 "cells": [
  {
   "cell_type": "markdown",
   "metadata": {},
   "source": [
    "# Step One: Getting Data"
   ]
  },
  {
   "cell_type": "markdown",
   "metadata": {},
   "source": [
    "### Download stock data and save it as csv"
   ]
  },
  {
   "cell_type": "code",
   "execution_count": 6,
   "metadata": {},
   "outputs": [],
   "source": [
    "# Import requirements\n",
    "import subprocess, os\n",
    "import pandas as pd\n",
    "from sklearn import preprocessing\n",
    "import numpy as np"
   ]
  },
  {
   "cell_type": "code",
   "execution_count": 7,
   "metadata": {},
   "outputs": [],
   "source": [
    "# Choose stock and frequency\n",
    "stock = 'BTC'\n",
    "freq = 'daily'\n",
    "market = 'USD'\n",
    "folder = 'stocks/'\n",
    "base_wd = '/Users/jeffrey_yuan/Documents/8_Projects/algotrading/'\n",
    "os.chdir(base_wd)"
   ]
  },
  {
   "cell_type": "code",
   "execution_count": 8,
   "metadata": {},
   "outputs": [
    {
     "name": "stdout",
     "output_type": "stream",
     "text": [
      "/Users/jeffrey_yuan/Documents/8_Projects/algotrading/stocks\n",
      "['AMZN_daily_adj.csv', 'AAPL_daily.csv', 'MSFT_daily_adj.csv', 'AAPL_intraday.csv', 'BAC_daily_adj.csv', 'AAPL_daily_adj.csv', 'ILMN_daily_adj.csv', 'GOOGL_daily_adj.csv', 'save_crypto_to_csv.py', 'FB_daily_adj.csv', 'SQ_daily_adj.csv', 'ABNB_daily_adj.csv', 'BAC_daily.csv', 'ZIM_daily.csv', 'creds.json', 'LAC_daily_adj.csv', 'ABNB_intraday.csv', 'ZIM_intraday.csv', 'SPY_daily_adj.csv', 'SQ_intraday.csv', 'ABNB_daily.csv', 'TSLA_daily.csv', 'ZIM_daily_adj.csv', 'save_data_to_csv.py', '.ipynb_checkpoints', 'BAC_intraday.csv', 'JPM_daily_adj.csv', 'TSLA_daily_adj.csv', 'C_daily_adj.csv', 'GOOG_daily_adj.csv', 'MSFT_daily.csv']\n"
     ]
    },
    {
     "data": {
      "text/plain": [
       "0"
      ]
     },
     "execution_count": 8,
     "metadata": {},
     "output_type": "execute_result"
    }
   ],
   "source": [
    "# Call save_data_to_csv on stock\n",
    "#os.chdir(base_wd+folder)\n",
    "#print(os.getcwd())\n",
    "#print(os.listdir())\n",
    "#subprocess.call(['python','save_data_to_csv.py', stock, freq])\n",
    "\n",
    "# Call save_crypto_to_csv on crypto\n",
    "os.chdir(base_wd+folder)\n",
    "print(os.getcwd())\n",
    "print(os.listdir())\n",
    "subprocess.call(['python','save_crypto_to_csv.py', stock, market, freq])"
   ]
  },
  {
   "cell_type": "code",
   "execution_count": 9,
   "metadata": {},
   "outputs": [
    {
     "name": "stdout",
     "output_type": "stream",
     "text": [
      "/Users/jeffrey_yuan/Documents/8_Projects/algotrading/stocks\n"
     ]
    },
    {
     "data": {
      "text/plain": [
       "['.ipynb_checkpoints',\n",
       " 'AAPL_daily.csv',\n",
       " 'AAPL_daily_adj.csv',\n",
       " 'AAPL_intraday.csv',\n",
       " 'ABNB_daily.csv',\n",
       " 'ABNB_daily_adj.csv',\n",
       " 'ABNB_intraday.csv',\n",
       " 'AMZN_daily_adj.csv',\n",
       " 'BAC_daily.csv',\n",
       " 'BAC_daily_adj.csv',\n",
       " 'BAC_intraday.csv',\n",
       " 'BTC_USD_daily.csv',\n",
       " 'C_daily_adj.csv',\n",
       " 'FB_daily_adj.csv',\n",
       " 'GOOGL_daily_adj.csv',\n",
       " 'GOOG_daily_adj.csv',\n",
       " 'ILMN_daily_adj.csv',\n",
       " 'JPM_daily_adj.csv',\n",
       " 'LAC_daily_adj.csv',\n",
       " 'MSFT_daily.csv',\n",
       " 'MSFT_daily_adj.csv',\n",
       " 'SPY_daily_adj.csv',\n",
       " 'SQ_daily_adj.csv',\n",
       " 'SQ_intraday.csv',\n",
       " 'TSLA_daily.csv',\n",
       " 'TSLA_daily_adj.csv',\n",
       " 'ZIM_daily.csv',\n",
       " 'ZIM_daily_adj.csv',\n",
       " 'ZIM_intraday.csv',\n",
       " 'creds.json',\n",
       " 'save_crypto_to_csv.py',\n",
       " 'save_data_to_csv.py']"
      ]
     },
     "execution_count": 9,
     "metadata": {},
     "output_type": "execute_result"
    }
   ],
   "source": [
    "# Show files in directory to confirm new file\n",
    "print(os.getcwd())\n",
    "sorted(os.listdir(base_wd+folder))"
   ]
  },
  {
   "cell_type": "markdown",
   "metadata": {},
   "source": [
    "### Taking a first look at the daily data"
   ]
  },
  {
   "cell_type": "code",
   "execution_count": 10,
   "metadata": {},
   "outputs": [],
   "source": [
    "# Stock\n",
    "#os.chdir(base_wd)\n",
    "#csv_path = \"{}{}_{}.csv\".format(folder, stock, freq)\n",
    "#daily = pd.read_csv(csv_path)\n",
    "\n",
    "# Crypto\n",
    "os.chdir(base_wd)\n",
    "csv_path = \"{}{}_{}_{}.csv\".format(folder, stock, market, freq)\n",
    "daily = pd.read_csv(csv_path)"
   ]
  },
  {
   "cell_type": "code",
   "execution_count": 11,
   "metadata": {},
   "outputs": [
    {
     "name": "stdout",
     "output_type": "stream",
     "text": [
      "           date  1a. open (USD)  1b. open (USD)  2a. high (USD)  \\\n",
      "0    2021-10-28        58413.44        58413.44        58877.48   \n",
      "1    2021-10-27        60328.81        60328.81        61496.00   \n",
      "2    2021-10-26        63078.78        63078.78        63293.48   \n",
      "3    2021-10-25        60852.22        60852.22        63710.63   \n",
      "4    2021-10-24        61286.75        61286.75        61500.00   \n",
      "..          ...             ...             ...             ...   \n",
      "995  2019-02-06         3471.57         3471.57         3482.72   \n",
      "996  2019-02-05         3463.22         3463.22         3478.97   \n",
      "997  2019-02-04         3458.11         3458.11         3484.88   \n",
      "998  2019-02-03         3504.06         3504.06         3511.09   \n",
      "999  2019-02-02         3462.20         3462.20         3526.40   \n",
      "\n",
      "     2b. high (USD)  3a. low (USD)  3b. low (USD)  4a. close (USD)  \\\n",
      "0          58877.48       58374.17       58374.17         58486.43   \n",
      "1          61496.00       58000.00       58000.00         58413.44   \n",
      "2          63293.48       59817.55       59817.55         60328.81   \n",
      "3          63710.63       60650.00       60650.00         63078.78   \n",
      "4          61500.00       59510.63       59510.63         60852.22   \n",
      "..              ...            ...            ...              ...   \n",
      "995         3482.72        3380.00        3380.00          3405.37   \n",
      "996         3478.97        3448.43        3448.43          3471.59   \n",
      "997         3484.88        3433.31        3433.31          3463.22   \n",
      "998         3511.09        3426.00        3426.00          3458.11   \n",
      "999         3526.40        3440.29        3440.29          3504.77   \n",
      "\n",
      "     4b. close (USD)     5. volume  6. market cap (USD)  \n",
      "0           58486.43    946.566900           946.566900  \n",
      "1           58413.44  62124.490160         62124.490160  \n",
      "2           60328.81  40217.500830         40217.500830  \n",
      "3           63078.78  36853.838060         36853.838060  \n",
      "4           60852.22  31226.576760         31226.576760  \n",
      "..               ...           ...                  ...  \n",
      "995          3405.37  35310.244846         35310.244846  \n",
      "996          3471.59  25264.415030         25264.415030  \n",
      "997          3463.22  23131.981108         23131.981108  \n",
      "998          3458.11  19867.336390         19867.336390  \n",
      "999          3504.77  17920.802000         17920.802000  \n",
      "\n",
      "[1000 rows x 11 columns]\n",
      "date\n",
      "1a. open (USD)\n",
      "1b. open (USD)\n",
      "2a. high (USD)\n",
      "2b. high (USD)\n",
      "3a. low (USD)\n",
      "3b. low (USD)\n",
      "4a. close (USD)\n",
      "4b. close (USD)\n",
      "5. volume\n",
      "6. market cap (USD)\n"
     ]
    }
   ],
   "source": [
    "# See what the data looks like\n",
    "print(daily)\n",
    "for col in daily.columns:\n",
    "    print(col)"
   ]
  },
  {
   "cell_type": "code",
   "execution_count": 12,
   "metadata": {},
   "outputs": [
    {
     "name": "stdout",
     "output_type": "stream",
     "text": [
      "         date  1a. open (USD)  1b. open (USD)  2a. high (USD)  2b. high (USD)  \\\n",
      "0  2021-10-28        58413.44        58413.44        58877.48        58877.48   \n",
      "1  2021-10-27        60328.81        60328.81        61496.00        61496.00   \n",
      "2  2021-10-26        63078.78        63078.78        63293.48        63293.48   \n",
      "3  2021-10-25        60852.22        60852.22        63710.63        63710.63   \n",
      "4  2021-10-24        61286.75        61286.75        61500.00        61500.00   \n",
      "5  2021-10-23        60688.23        60688.23        61747.64        61747.64   \n",
      "\n",
      "   3a. low (USD)  3b. low (USD)  4a. close (USD)  4b. close (USD)  \\\n",
      "0       58374.17       58374.17         58486.43         58486.43   \n",
      "1       58000.00       58000.00         58413.44         58413.44   \n",
      "2       59817.55       59817.55         60328.81         60328.81   \n",
      "3       60650.00       60650.00         63078.78         63078.78   \n",
      "4       59510.63       59510.63         60852.22         60852.22   \n",
      "5       59562.15       59562.15         61286.75         61286.75   \n",
      "\n",
      "     5. volume  6. market cap (USD)  \n",
      "0    946.56690            946.56690  \n",
      "1  62124.49016          62124.49016  \n",
      "2  40217.50083          40217.50083  \n",
      "3  36853.83806          36853.83806  \n",
      "4  31226.57676          31226.57676  \n",
      "5  27626.93678          27626.93678  \n"
     ]
    }
   ],
   "source": [
    "# Print the last 6 days worth of data\n",
    "print(daily[:6])"
   ]
  },
  {
   "cell_type": "code",
   "execution_count": 526,
   "metadata": {},
   "outputs": [
    {
     "name": "stdout",
     "output_type": "stream",
     "text": [
      "0    43.34\n",
      "1    43.08\n",
      "2    42.45\n",
      "3    43.07\n",
      "4    43.16\n",
      "5    43.26\n",
      "Name: 4. close, dtype: float64\n"
     ]
    }
   ],
   "source": [
    "# Print just the close\n",
    "print(daily[\"4. close\"][:6])"
   ]
  },
  {
   "cell_type": "code",
   "execution_count": 527,
   "metadata": {},
   "outputs": [],
   "source": [
    "# Reverse data to get chronological order\n",
    "rev_daily = daily.iloc[::-1]"
   ]
  },
  {
   "cell_type": "code",
   "execution_count": 528,
   "metadata": {},
   "outputs": [
    {
     "name": "stdout",
     "output_type": "stream",
     "text": [
      "            date  1. open  2. high  3. low  4. close   5. volume\n",
      "5516  1999-11-01    64.50   65.190   63.94     64.87   4018200.0\n",
      "5515  1999-11-02    64.94   65.750   64.19     64.25   3909800.0\n",
      "5514  1999-11-03    64.75   64.750   62.94     63.00   4876700.0\n",
      "5513  1999-11-04    63.88   64.500   63.50     63.50   5136800.0\n",
      "5512  1999-11-05    65.50   66.870   65.00     65.06   4981800.0\n",
      "...          ...      ...      ...     ...       ...         ...\n",
      "4     2021-09-28    43.43   44.040   43.06     43.16  60781198.0\n",
      "3     2021-09-29    43.18   43.320   42.74     43.07  44260237.0\n",
      "2     2021-09-30    43.35   43.350   42.23     42.45  47410812.0\n",
      "1     2021-10-01    42.48   43.430   42.39     43.08  40987055.0\n",
      "0     2021-10-04    43.11   44.065   43.07     43.34  48273432.0\n",
      "\n",
      "[5517 rows x 6 columns]\n",
      "date\n",
      "1. open\n",
      "2. high\n",
      "3. low\n",
      "4. close\n",
      "5. volume\n"
     ]
    }
   ],
   "source": [
    "# See what the reversed data looks like\n",
    "print(rev_daily)\n",
    "for col in rev_daily.columns:\n",
    "    print(col)"
   ]
  },
  {
   "cell_type": "markdown",
   "metadata": {},
   "source": [
    "### Looking at daily adjusted data"
   ]
  },
  {
   "cell_type": "code",
   "execution_count": 529,
   "metadata": {},
   "outputs": [],
   "source": [
    "# Choose stock and frequency\n",
    "#stock = 'MSFT'\n",
    "freq = 'daily_adj'"
   ]
  },
  {
   "cell_type": "code",
   "execution_count": 530,
   "metadata": {},
   "outputs": [
    {
     "data": {
      "text/plain": [
       "0"
      ]
     },
     "execution_count": 530,
     "metadata": {},
     "output_type": "execute_result"
    }
   ],
   "source": [
    "# Call save_data_to_csv on stock\n",
    "os.chdir(base_wd+folder)\n",
    "subprocess.call(['python','save_data_to_csv.py', stock, freq])"
   ]
  },
  {
   "cell_type": "code",
   "execution_count": 531,
   "metadata": {},
   "outputs": [
    {
     "name": "stdout",
     "output_type": "stream",
     "text": [
      "/Users/jeffrey_yuan/Documents/8_Projects/algotrading/stocks\n"
     ]
    },
    {
     "data": {
      "text/plain": [
       "['AAPL_daily.csv',\n",
       " 'AAPL_daily_adj.csv',\n",
       " 'AAPL_intraday.csv',\n",
       " 'ABNB_daily.csv',\n",
       " 'ABNB_daily_adj.csv',\n",
       " 'ABNB_intraday.csv',\n",
       " 'BAC_daily.csv',\n",
       " 'BAC_daily_adj.csv',\n",
       " 'MSFT_daily.csv',\n",
       " 'MSFT_daily_adj.csv',\n",
       " 'SQ_daily_adj.csv',\n",
       " 'SQ_intraday.csv',\n",
       " 'TSLA_daily.csv',\n",
       " 'ZIM_daily.csv',\n",
       " 'ZIM_daily_adj.csv',\n",
       " 'ZIM_intraday.csv',\n",
       " 'creds.json',\n",
       " 'save_data_to_csv.py']"
      ]
     },
     "execution_count": 531,
     "metadata": {},
     "output_type": "execute_result"
    }
   ],
   "source": [
    "# Show files in directory to confirm new file\n",
    "print(os.getcwd())\n",
    "sorted(os.listdir())"
   ]
  },
  {
   "cell_type": "code",
   "execution_count": 532,
   "metadata": {},
   "outputs": [],
   "source": [
    "os.chdir(base_wd)\n",
    "csv_path = \"{}{}_{}.csv\".format(folder, stock, freq)\n",
    "dadj = pd.read_csv(csv_path)"
   ]
  },
  {
   "cell_type": "code",
   "execution_count": 533,
   "metadata": {},
   "outputs": [
    {
     "name": "stdout",
     "output_type": "stream",
     "text": [
      "            date  1. open  2. high  3. low  4. close  5. adjusted close  \\\n",
      "0     2021-10-04    43.11   44.065   43.07     43.34          43.340000   \n",
      "1     2021-10-01    42.48   43.430   42.39     43.08          43.080000   \n",
      "2     2021-09-30    43.35   43.350   42.23     42.45          42.450000   \n",
      "3     2021-09-29    43.18   43.320   42.74     43.07          43.070000   \n",
      "4     2021-09-28    43.43   44.040   43.06     43.16          43.160000   \n",
      "...          ...      ...      ...     ...       ...                ...   \n",
      "5512  1999-11-05    65.50   66.870   65.00     65.06          17.536314   \n",
      "5513  1999-11-04    63.88   64.500   63.50     63.50          17.115830   \n",
      "5514  1999-11-03    64.75   64.750   62.94     63.00          16.981060   \n",
      "5515  1999-11-02    64.94   65.750   64.19     64.25          17.317986   \n",
      "5516  1999-11-01    64.50   65.190   63.94     64.87          17.485101   \n",
      "\n",
      "       6. volume  7. dividend amount  8. split coefficient  \n",
      "0     48273432.0                 0.0                   1.0  \n",
      "1     40987055.0                 0.0                   1.0  \n",
      "2     47410812.0                 0.0                   1.0  \n",
      "3     44260237.0                 0.0                   1.0  \n",
      "4     60781198.0                 0.0                   1.0  \n",
      "...          ...                 ...                   ...  \n",
      "5512   4981800.0                 0.0                   1.0  \n",
      "5513   5136800.0                 0.0                   1.0  \n",
      "5514   4876700.0                 0.0                   1.0  \n",
      "5515   3909800.0                 0.0                   1.0  \n",
      "5516   4018200.0                 0.0                   1.0  \n",
      "\n",
      "[5517 rows x 9 columns]\n",
      "date\n",
      "1. open\n",
      "2. high\n",
      "3. low\n",
      "4. close\n",
      "5. adjusted close\n",
      "6. volume\n",
      "7. dividend amount\n",
      "8. split coefficient\n"
     ]
    }
   ],
   "source": [
    "# See what the data looks like\n",
    "print(dadj)\n",
    "for col in dadj.columns:\n",
    "    print(col)"
   ]
  },
  {
   "cell_type": "code",
   "execution_count": 534,
   "metadata": {},
   "outputs": [
    {
     "name": "stdout",
     "output_type": "stream",
     "text": [
      "         date  1. open  2. high  3. low  4. close  5. adjusted close  \\\n",
      "0  2021-10-04    43.11   44.065   43.07     43.34              43.34   \n",
      "1  2021-10-01    42.48   43.430   42.39     43.08              43.08   \n",
      "2  2021-09-30    43.35   43.350   42.23     42.45              42.45   \n",
      "3  2021-09-29    43.18   43.320   42.74     43.07              43.07   \n",
      "4  2021-09-28    43.43   44.040   43.06     43.16              43.16   \n",
      "5  2021-09-27    42.68   43.430   42.64     43.26              43.26   \n",
      "\n",
      "    6. volume  7. dividend amount  8. split coefficient  \n",
      "0  48273432.0                 0.0                   1.0  \n",
      "1  40987055.0                 0.0                   1.0  \n",
      "2  47410812.0                 0.0                   1.0  \n",
      "3  44260237.0                 0.0                   1.0  \n",
      "4  60781198.0                 0.0                   1.0  \n",
      "5  49755388.0                 0.0                   1.0  \n"
     ]
    }
   ],
   "source": [
    "# Print the last 6 days worth of data\n",
    "print(dadj[:6])"
   ]
  },
  {
   "cell_type": "code",
   "execution_count": 535,
   "metadata": {},
   "outputs": [
    {
     "name": "stdout",
     "output_type": "stream",
     "text": [
      "0    43.34\n",
      "1    43.08\n",
      "2    42.45\n",
      "3    43.07\n",
      "4    43.16\n",
      "5    43.26\n",
      "Name: 4. close, dtype: float64\n"
     ]
    }
   ],
   "source": [
    "# Print just the close\n",
    "print(dadj[\"4. close\"][:6])"
   ]
  },
  {
   "cell_type": "markdown",
   "metadata": {},
   "source": [
    "### Checking out the intraday data"
   ]
  },
  {
   "cell_type": "code",
   "execution_count": 536,
   "metadata": {},
   "outputs": [],
   "source": [
    "# Choose stock and frequency\n",
    "#stock = 'AAPL'\n",
    "freq = 'intraday'"
   ]
  },
  {
   "cell_type": "code",
   "execution_count": 537,
   "metadata": {},
   "outputs": [
    {
     "data": {
      "text/plain": [
       "0"
      ]
     },
     "execution_count": 537,
     "metadata": {},
     "output_type": "execute_result"
    }
   ],
   "source": [
    "# Call save_data_to_csv on stock\n",
    "os.chdir(base_wd+folder)\n",
    "subprocess.call(['python','save_data_to_csv.py', stock, freq])"
   ]
  },
  {
   "cell_type": "code",
   "execution_count": 538,
   "metadata": {},
   "outputs": [
    {
     "name": "stdout",
     "output_type": "stream",
     "text": [
      "/Users/jeffrey_yuan/Documents/8_Projects/algotrading/stocks\n"
     ]
    },
    {
     "data": {
      "text/plain": [
       "['AAPL_daily.csv',\n",
       " 'AAPL_daily_adj.csv',\n",
       " 'AAPL_intraday.csv',\n",
       " 'ABNB_daily.csv',\n",
       " 'ABNB_daily_adj.csv',\n",
       " 'ABNB_intraday.csv',\n",
       " 'BAC_daily.csv',\n",
       " 'BAC_daily_adj.csv',\n",
       " 'BAC_intraday.csv',\n",
       " 'MSFT_daily.csv',\n",
       " 'MSFT_daily_adj.csv',\n",
       " 'SQ_daily_adj.csv',\n",
       " 'SQ_intraday.csv',\n",
       " 'TSLA_daily.csv',\n",
       " 'ZIM_daily.csv',\n",
       " 'ZIM_daily_adj.csv',\n",
       " 'ZIM_intraday.csv',\n",
       " 'creds.json',\n",
       " 'save_data_to_csv.py']"
      ]
     },
     "execution_count": 538,
     "metadata": {},
     "output_type": "execute_result"
    }
   ],
   "source": [
    "# Show files in directory to confirm new file\n",
    "print(os.getcwd())\n",
    "sorted(os.listdir())"
   ]
  },
  {
   "cell_type": "code",
   "execution_count": 539,
   "metadata": {},
   "outputs": [],
   "source": [
    "os.chdir(base_wd)\n",
    "csv_path = \"{}{}_{}.csv\".format(folder, stock, freq)\n",
    "intraday = pd.read_csv(csv_path)"
   ]
  },
  {
   "cell_type": "code",
   "execution_count": 540,
   "metadata": {},
   "outputs": [
    {
     "name": "stdout",
     "output_type": "stream",
     "text": [
      "                     date  1. open  2. high  3. low  4. close  5. volume\n",
      "0     2021-10-04 20:00:00   283.51   283.51  283.51    283.51      239.0\n",
      "1     2021-10-04 19:57:00   283.44   283.44  283.40    283.40     1810.0\n",
      "2     2021-10-04 19:56:00   283.44   283.44  283.44    283.44      530.0\n",
      "3     2021-10-04 19:52:00   283.70   283.80  283.70    283.80      743.0\n",
      "4     2021-10-04 19:51:00   283.70   283.70  283.40    283.70     1083.0\n",
      "...                   ...      ...      ...     ...       ...        ...\n",
      "6792  2021-09-20 04:05:00   296.13   296.41  296.13    296.41     1254.0\n",
      "6793  2021-09-20 04:04:00   296.30   296.30  296.30    296.30     1135.0\n",
      "6794  2021-09-20 04:03:00   296.45   296.45  296.45    296.45     1197.0\n",
      "6795  2021-09-20 04:02:00   296.56   296.56  296.50    296.50      616.0\n",
      "6796  2021-09-20 04:01:00   297.96   297.96  296.88    296.95     1951.0\n",
      "\n",
      "[6797 rows x 6 columns]\n",
      "date\n",
      "1. open\n",
      "2. high\n",
      "3. low\n",
      "4. close\n",
      "5. volume\n"
     ]
    }
   ],
   "source": [
    "# See what the data looks like\n",
    "print(intraday)\n",
    "for col in intraday.columns:\n",
    "    print(col)"
   ]
  },
  {
   "cell_type": "code",
   "execution_count": 541,
   "metadata": {},
   "outputs": [
    {
     "name": "stdout",
     "output_type": "stream",
     "text": [
      "                  date  1. open  2. high  3. low  4. close  5. volume\n",
      "0  2021-10-04 20:00:00   283.51   283.51  283.51    283.51      239.0\n",
      "1  2021-10-04 19:57:00   283.44   283.44  283.40    283.40     1810.0\n",
      "2  2021-10-04 19:56:00   283.44   283.44  283.44    283.44      530.0\n",
      "3  2021-10-04 19:52:00   283.70   283.80  283.70    283.80      743.0\n",
      "4  2021-10-04 19:51:00   283.70   283.70  283.40    283.70     1083.0\n",
      "5  2021-10-04 19:47:00   283.34   283.34  283.34    283.34      244.0\n"
     ]
    }
   ],
   "source": [
    "# Print the last 6 minutes worth of data (while markets are open)\n",
    "print(intraday[:6])"
   ]
  },
  {
   "cell_type": "code",
   "execution_count": 542,
   "metadata": {},
   "outputs": [
    {
     "name": "stdout",
     "output_type": "stream",
     "text": [
      "0    283.51\n",
      "1    283.40\n",
      "2    283.44\n",
      "3    283.80\n",
      "4    283.70\n",
      "5    283.34\n",
      "Name: 4. close, dtype: float64\n"
     ]
    }
   ],
   "source": [
    "# Print just the close\n",
    "print(intraday[\"4. close\"][:6])"
   ]
  },
  {
   "cell_type": "markdown",
   "metadata": {},
   "source": [
    "# Step Two: Calculating Technical Indicators"
   ]
  },
  {
   "cell_type": "markdown",
   "metadata": {},
   "source": [
    "### Averages"
   ]
  },
  {
   "cell_type": "code",
   "execution_count": 543,
   "metadata": {},
   "outputs": [
    {
     "name": "stdout",
     "output_type": "stream",
     "text": [
      "            date  1. open  2. high  3. low  4. close   5. volume\n",
      "5516  1999-11-01    64.50   65.190   63.94     64.87   4018200.0\n",
      "5515  1999-11-02    64.94   65.750   64.19     64.25   3909800.0\n",
      "5514  1999-11-03    64.75   64.750   62.94     63.00   4876700.0\n",
      "5513  1999-11-04    63.88   64.500   63.50     63.50   5136800.0\n",
      "5512  1999-11-05    65.50   66.870   65.00     65.06   4981800.0\n",
      "...          ...      ...      ...     ...       ...         ...\n",
      "4     2021-09-28    43.43   44.040   43.06     43.16  60781198.0\n",
      "3     2021-09-29    43.18   43.320   42.74     43.07  44260237.0\n",
      "2     2021-09-30    43.35   43.350   42.23     42.45  47410812.0\n",
      "1     2021-10-01    42.48   43.430   42.39     43.08  40987055.0\n",
      "0     2021-10-04    43.11   44.065   43.07     43.34  48273432.0\n",
      "\n",
      "[5517 rows x 6 columns]\n",
      "            date  1. open  2. high  3. low  4. close   5. volume  6-day SMA\n",
      "5516  1999-11-01    64.50   65.190   63.94     64.87   4018200.0        NaN\n",
      "5515  1999-11-02    64.94   65.750   64.19     64.25   3909800.0        NaN\n",
      "5514  1999-11-03    64.75   64.750   62.94     63.00   4876700.0        NaN\n",
      "5513  1999-11-04    63.88   64.500   63.50     63.50   5136800.0        NaN\n",
      "5512  1999-11-05    65.50   66.870   65.00     65.06   4981800.0        NaN\n",
      "...          ...      ...      ...     ...       ...         ...        ...\n",
      "4     2021-09-28    43.43   44.040   43.06     43.16  60781198.0  41.586667\n",
      "3     2021-09-29    43.18   43.320   42.74     43.07  44260237.0  42.243333\n",
      "2     2021-09-30    43.35   43.350   42.23     42.45  47410812.0  42.628333\n",
      "1     2021-10-01    42.48   43.430   42.39     43.08  40987055.0  42.860000\n",
      "0     2021-10-04    43.11   44.065   43.07     43.34  48273432.0  43.060000\n",
      "\n",
      "[5517 rows x 7 columns]\n"
     ]
    },
    {
     "name": "stderr",
     "output_type": "stream",
     "text": [
      "/Users/jeffrey_yuan/anaconda3/lib/python3.7/site-packages/ipykernel_launcher.py:6: SettingWithCopyWarning: \n",
      "A value is trying to be set on a copy of a slice from a DataFrame.\n",
      "Try using .loc[row_indexer,col_indexer] = value instead\n",
      "\n",
      "See the caveats in the documentation: https://pandas.pydata.org/pandas-docs/stable/user_guide/indexing.html#returning-a-view-versus-a-copy\n",
      "  \n"
     ]
    }
   ],
   "source": [
    "# SMA - Simple Moving Average\n",
    "# Use built-in function to calculate SMA on daily data\n",
    "length = 6\n",
    "#rev_daily = rev_daily.drop(columns=[\"6-day SMA\"])\n",
    "print(rev_daily)\n",
    "rev_daily[\"6-day SMA\"] = rev_daily.rolling(window=length)[\"4. close\"].mean()\n",
    "print(rev_daily)"
   ]
  },
  {
   "cell_type": "code",
   "execution_count": 544,
   "metadata": {},
   "outputs": [],
   "source": [
    "# SMA Add Function\n",
    "def add_sma(data, header, length, label):\n",
    "    data[label] = data.rolling(window=length)[header].mean()"
   ]
  },
  {
   "cell_type": "code",
   "execution_count": 545,
   "metadata": {},
   "outputs": [
    {
     "name": "stdout",
     "output_type": "stream",
     "text": [
      "Before adding SMA\n",
      "            date  1. open  2. high  3. low  4. close   5. volume\n",
      "5516  1999-11-01    64.50   65.190   63.94     64.87   4018200.0\n",
      "5515  1999-11-02    64.94   65.750   64.19     64.25   3909800.0\n",
      "5514  1999-11-03    64.75   64.750   62.94     63.00   4876700.0\n",
      "5513  1999-11-04    63.88   64.500   63.50     63.50   5136800.0\n",
      "5512  1999-11-05    65.50   66.870   65.00     65.06   4981800.0\n",
      "...          ...      ...      ...     ...       ...         ...\n",
      "4     2021-09-28    43.43   44.040   43.06     43.16  60781198.0\n",
      "3     2021-09-29    43.18   43.320   42.74     43.07  44260237.0\n",
      "2     2021-09-30    43.35   43.350   42.23     42.45  47410812.0\n",
      "1     2021-10-01    42.48   43.430   42.39     43.08  40987055.0\n",
      "0     2021-10-04    43.11   44.065   43.07     43.34  48273432.0\n",
      "\n",
      "[5517 rows x 6 columns]\n",
      "\n",
      "After adding SMA\n",
      "            date  1. open  2. high  3. low  4. close   5. volume  6-day SMA\n",
      "5516  1999-11-01    64.50   65.190   63.94     64.87   4018200.0        NaN\n",
      "5515  1999-11-02    64.94   65.750   64.19     64.25   3909800.0        NaN\n",
      "5514  1999-11-03    64.75   64.750   62.94     63.00   4876700.0        NaN\n",
      "5513  1999-11-04    63.88   64.500   63.50     63.50   5136800.0        NaN\n",
      "5512  1999-11-05    65.50   66.870   65.00     65.06   4981800.0        NaN\n",
      "...          ...      ...      ...     ...       ...         ...        ...\n",
      "4     2021-09-28    43.43   44.040   43.06     43.16  60781198.0  41.586667\n",
      "3     2021-09-29    43.18   43.320   42.74     43.07  44260237.0  42.243333\n",
      "2     2021-09-30    43.35   43.350   42.23     42.45  47410812.0  42.628333\n",
      "1     2021-10-01    42.48   43.430   42.39     43.08  40987055.0  42.860000\n",
      "0     2021-10-04    43.11   44.065   43.07     43.34  48273432.0  43.060000\n",
      "\n",
      "[5517 rows x 7 columns]\n"
     ]
    }
   ],
   "source": [
    "# Test SMA Add Function\n",
    "header = \"4. close\"\n",
    "length = 6\n",
    "label = \"{}-day SMA\".format(length)\n",
    "rev_daily = rev_daily.drop(columns=[label])\n",
    "print(\"Before adding SMA\")\n",
    "print(rev_daily)\n",
    "add_sma(rev_daily, header, length, label)\n",
    "print(\"\\nAfter adding SMA\")\n",
    "print(rev_daily)"
   ]
  },
  {
   "cell_type": "code",
   "execution_count": 546,
   "metadata": {},
   "outputs": [
    {
     "name": "stdout",
     "output_type": "stream",
     "text": [
      "            date  1. open  2. high  3. low  4. close   5. volume  6-day SMA  \\\n",
      "5516  1999-11-01    64.50   65.190   63.94     64.87   4018200.0        NaN   \n",
      "5515  1999-11-02    64.94   65.750   64.19     64.25   3909800.0        NaN   \n",
      "5514  1999-11-03    64.75   64.750   62.94     63.00   4876700.0        NaN   \n",
      "5513  1999-11-04    63.88   64.500   63.50     63.50   5136800.0        NaN   \n",
      "5512  1999-11-05    65.50   66.870   65.00     65.06   4981800.0        NaN   \n",
      "...          ...      ...      ...     ...       ...         ...        ...   \n",
      "4     2021-09-28    43.43   44.040   43.06     43.16  60781198.0  41.586667   \n",
      "3     2021-09-29    43.18   43.320   42.74     43.07  44260237.0  42.243333   \n",
      "2     2021-09-30    43.35   43.350   42.23     42.45  47410812.0  42.628333   \n",
      "1     2021-10-01    42.48   43.430   42.39     43.08  40987055.0  42.860000   \n",
      "0     2021-10-04    43.11   44.065   43.07     43.34  48273432.0  43.060000   \n",
      "\n",
      "      50-day SMA  100-day SMA  200-day SMA  \n",
      "5516         NaN          NaN          NaN  \n",
      "5515         NaN          NaN          NaN  \n",
      "5514         NaN          NaN          NaN  \n",
      "5513         NaN          NaN          NaN  \n",
      "5512         NaN          NaN          NaN  \n",
      "...          ...          ...          ...  \n",
      "4        40.3628      40.7969     37.95480  \n",
      "3        40.4704      40.8058     38.02730  \n",
      "2        40.5502      40.8098     38.09845  \n",
      "1        40.6526      40.8249     38.17065  \n",
      "0        40.7654      40.8465     38.24375  \n",
      "\n",
      "[5517 rows x 10 columns]\n"
     ]
    }
   ],
   "source": [
    "# It is common to look at 50-, 100-, and 200-day moving averages\n",
    "# If 50-day is above 200-day moving average, stock is bullish. A crossover to the downside is bearish.\n",
    "length = 50\n",
    "label = \"{}-day SMA\".format(length)\n",
    "add_sma(rev_daily, header, length, label)\n",
    "length = 100\n",
    "label = \"{}-day SMA\".format(length)\n",
    "add_sma(rev_daily, header, length, label)\n",
    "length = 200\n",
    "label = \"{}-day SMA\".format(length)\n",
    "add_sma(rev_daily, header, length, label)\n",
    "print(rev_daily)"
   ]
  },
  {
   "cell_type": "code",
   "execution_count": 547,
   "metadata": {},
   "outputs": [
    {
     "name": "stdout",
     "output_type": "stream",
     "text": [
      "            date  1. open  2. high  3. low  4. close   5. volume  6-day SMA  \\\n",
      "5516  1999-11-01    64.50   65.190   63.94     64.87   4018200.0        NaN   \n",
      "5515  1999-11-02    64.94   65.750   64.19     64.25   3909800.0        NaN   \n",
      "5514  1999-11-03    64.75   64.750   62.94     63.00   4876700.0        NaN   \n",
      "5513  1999-11-04    63.88   64.500   63.50     63.50   5136800.0        NaN   \n",
      "5512  1999-11-05    65.50   66.870   65.00     65.06   4981800.0        NaN   \n",
      "...          ...      ...      ...     ...       ...         ...        ...   \n",
      "4     2021-09-28    43.43   44.040   43.06     43.16  60781198.0  41.586667   \n",
      "3     2021-09-29    43.18   43.320   42.74     43.07  44260237.0  42.243333   \n",
      "2     2021-09-30    43.35   43.350   42.23     42.45  47410812.0  42.628333   \n",
      "1     2021-10-01    42.48   43.430   42.39     43.08  40987055.0  42.860000   \n",
      "0     2021-10-04    43.11   44.065   43.07     43.34  48273432.0  43.060000   \n",
      "\n",
      "      50-day SMA  100-day SMA  200-day SMA  6-day EMA  \n",
      "5516         NaN          NaN          NaN  64.870000  \n",
      "5515         NaN          NaN          NaN  64.508333  \n",
      "5514         NaN          NaN          NaN  63.830275  \n",
      "5513         NaN          NaN          NaN  63.702703  \n",
      "5512         NaN          NaN          NaN  64.179076  \n",
      "...          ...          ...          ...        ...  \n",
      "4        40.3628      40.7969     37.95480  42.030960  \n",
      "3        40.4704      40.8058     38.02730  42.327829  \n",
      "2        40.5502      40.8098     38.09845  42.362735  \n",
      "1        40.6526      40.8249     38.17065  42.567668  \n",
      "0        40.7654      40.8465     38.24375  42.788334  \n",
      "\n",
      "[5517 rows x 11 columns]\n"
     ]
    }
   ],
   "source": [
    "# EMA - Exponential Moving Average\n",
    "# Use built-in function to calculate EMA on daily data\n",
    "# Note: Span follows the following formula:\n",
    "# Specify decay in terms of span, 𝛼=2/(𝑠𝑝𝑎𝑛+1), for 𝑠𝑝𝑎𝑛≥1.\n",
    "length = 6\n",
    "rev_daily[\"6-day EMA\"] = rev_daily.ewm(span=length)[\"4. close\"].mean()\n",
    "print(rev_daily)"
   ]
  },
  {
   "cell_type": "code",
   "execution_count": 548,
   "metadata": {},
   "outputs": [],
   "source": [
    "# EMA Add Function\n",
    "def add_ema(data, header, length, label):\n",
    "    data[label] = data.ewm(span=length)[header].mean()"
   ]
  },
  {
   "cell_type": "code",
   "execution_count": 549,
   "metadata": {},
   "outputs": [
    {
     "name": "stdout",
     "output_type": "stream",
     "text": [
      "Before adding EMA\n",
      "            date  1. open  2. high  3. low  4. close   5. volume  6-day SMA  \\\n",
      "5516  1999-11-01    64.50   65.190   63.94     64.87   4018200.0        NaN   \n",
      "5515  1999-11-02    64.94   65.750   64.19     64.25   3909800.0        NaN   \n",
      "5514  1999-11-03    64.75   64.750   62.94     63.00   4876700.0        NaN   \n",
      "5513  1999-11-04    63.88   64.500   63.50     63.50   5136800.0        NaN   \n",
      "5512  1999-11-05    65.50   66.870   65.00     65.06   4981800.0        NaN   \n",
      "...          ...      ...      ...     ...       ...         ...        ...   \n",
      "4     2021-09-28    43.43   44.040   43.06     43.16  60781198.0  41.586667   \n",
      "3     2021-09-29    43.18   43.320   42.74     43.07  44260237.0  42.243333   \n",
      "2     2021-09-30    43.35   43.350   42.23     42.45  47410812.0  42.628333   \n",
      "1     2021-10-01    42.48   43.430   42.39     43.08  40987055.0  42.860000   \n",
      "0     2021-10-04    43.11   44.065   43.07     43.34  48273432.0  43.060000   \n",
      "\n",
      "      50-day SMA  100-day SMA  200-day SMA  \n",
      "5516         NaN          NaN          NaN  \n",
      "5515         NaN          NaN          NaN  \n",
      "5514         NaN          NaN          NaN  \n",
      "5513         NaN          NaN          NaN  \n",
      "5512         NaN          NaN          NaN  \n",
      "...          ...          ...          ...  \n",
      "4        40.3628      40.7969     37.95480  \n",
      "3        40.4704      40.8058     38.02730  \n",
      "2        40.5502      40.8098     38.09845  \n",
      "1        40.6526      40.8249     38.17065  \n",
      "0        40.7654      40.8465     38.24375  \n",
      "\n",
      "[5517 rows x 10 columns]\n",
      "\n",
      "After adding EMA\n",
      "            date  1. open  2. high  3. low  4. close   5. volume  6-day SMA  \\\n",
      "5516  1999-11-01    64.50   65.190   63.94     64.87   4018200.0        NaN   \n",
      "5515  1999-11-02    64.94   65.750   64.19     64.25   3909800.0        NaN   \n",
      "5514  1999-11-03    64.75   64.750   62.94     63.00   4876700.0        NaN   \n",
      "5513  1999-11-04    63.88   64.500   63.50     63.50   5136800.0        NaN   \n",
      "5512  1999-11-05    65.50   66.870   65.00     65.06   4981800.0        NaN   \n",
      "...          ...      ...      ...     ...       ...         ...        ...   \n",
      "4     2021-09-28    43.43   44.040   43.06     43.16  60781198.0  41.586667   \n",
      "3     2021-09-29    43.18   43.320   42.74     43.07  44260237.0  42.243333   \n",
      "2     2021-09-30    43.35   43.350   42.23     42.45  47410812.0  42.628333   \n",
      "1     2021-10-01    42.48   43.430   42.39     43.08  40987055.0  42.860000   \n",
      "0     2021-10-04    43.11   44.065   43.07     43.34  48273432.0  43.060000   \n",
      "\n",
      "      50-day SMA  100-day SMA  200-day SMA  6-day EMA  \n",
      "5516         NaN          NaN          NaN  64.870000  \n",
      "5515         NaN          NaN          NaN  64.508333  \n",
      "5514         NaN          NaN          NaN  63.830275  \n",
      "5513         NaN          NaN          NaN  63.702703  \n",
      "5512         NaN          NaN          NaN  64.179076  \n",
      "...          ...          ...          ...        ...  \n",
      "4        40.3628      40.7969     37.95480  42.030960  \n",
      "3        40.4704      40.8058     38.02730  42.327829  \n",
      "2        40.5502      40.8098     38.09845  42.362735  \n",
      "1        40.6526      40.8249     38.17065  42.567668  \n",
      "0        40.7654      40.8465     38.24375  42.788334  \n",
      "\n",
      "[5517 rows x 11 columns]\n"
     ]
    }
   ],
   "source": [
    "# Test EMA Add Function\n",
    "header = \"4. close\"\n",
    "length = 6\n",
    "label = \"{}-day EMA\".format(length)\n",
    "rev_daily = rev_daily.drop(columns=[label])\n",
    "print(\"Before adding EMA\")\n",
    "print(rev_daily)\n",
    "add_ema(rev_daily, header, length, label)\n",
    "print(\"\\nAfter adding EMA\")\n",
    "print(rev_daily)"
   ]
  },
  {
   "cell_type": "code",
   "execution_count": 550,
   "metadata": {},
   "outputs": [
    {
     "name": "stdout",
     "output_type": "stream",
     "text": [
      "            date  1. open  2. high  3. low  4. close   5. volume  6-day SMA  \\\n",
      "5516  1999-11-01    64.50   65.190   63.94     64.87   4018200.0        NaN   \n",
      "5515  1999-11-02    64.94   65.750   64.19     64.25   3909800.0        NaN   \n",
      "5514  1999-11-03    64.75   64.750   62.94     63.00   4876700.0        NaN   \n",
      "5513  1999-11-04    63.88   64.500   63.50     63.50   5136800.0        NaN   \n",
      "5512  1999-11-05    65.50   66.870   65.00     65.06   4981800.0        NaN   \n",
      "...          ...      ...      ...     ...       ...         ...        ...   \n",
      "4     2021-09-28    43.43   44.040   43.06     43.16  60781198.0  41.586667   \n",
      "3     2021-09-29    43.18   43.320   42.74     43.07  44260237.0  42.243333   \n",
      "2     2021-09-30    43.35   43.350   42.23     42.45  47410812.0  42.628333   \n",
      "1     2021-10-01    42.48   43.430   42.39     43.08  40987055.0  42.860000   \n",
      "0     2021-10-04    43.11   44.065   43.07     43.34  48273432.0  43.060000   \n",
      "\n",
      "      50-day SMA  100-day SMA  200-day SMA  6-day EMA  12-day EMA  26-day EMA  \\\n",
      "5516         NaN          NaN          NaN  64.870000   64.870000   64.870000   \n",
      "5515         NaN          NaN          NaN  64.508333   64.534167   64.548077   \n",
      "5514         NaN          NaN          NaN  63.830275   63.935381   63.991868   \n",
      "5513         NaN          NaN          NaN  63.702703   63.797948   63.854363   \n",
      "5512         NaN          NaN          NaN  64.179076   64.140843   64.133955   \n",
      "...          ...          ...          ...        ...         ...         ...   \n",
      "4        40.3628      40.7969     37.95480  42.030960   41.411257   41.024587   \n",
      "3        40.4704      40.8058     38.02730  42.327829   41.666448   41.176099   \n",
      "2        40.5502      40.8098     38.09845  42.362735   41.786995   41.270462   \n",
      "1        40.6526      40.8249     38.17065  42.567668   41.985919   41.404502   \n",
      "0        40.7654      40.8465     38.24375  42.788334   42.194239   41.547872   \n",
      "\n",
      "          MACD  \n",
      "5516  0.000000  \n",
      "5515 -0.013910  \n",
      "5514 -0.056487  \n",
      "5513 -0.056415  \n",
      "5512  0.006888  \n",
      "...        ...  \n",
      "4     0.386670  \n",
      "3     0.490349  \n",
      "2     0.516533  \n",
      "1     0.581417  \n",
      "0     0.646367  \n",
      "\n",
      "[5517 rows x 14 columns]\n"
     ]
    }
   ],
   "source": [
    "# MACD - Moving Average Convergence Divergence\n",
    "# Calculated as MACD = EMA(short) - EMA(long)\n",
    "short = 12\n",
    "long = 26\n",
    "header = \"4. close\"\n",
    "short_lab = \"{}-day EMA\".format(short)\n",
    "long_lab = \"{}-day EMA\".format(long)\n",
    "add_ema(rev_daily, header, short, short_lab)\n",
    "add_ema(rev_daily, header, long, long_lab)\n",
    "rev_daily[\"MACD\"] = rev_daily.loc[:,short_lab] - rev_daily.loc[:,long_lab]\n",
    "print(rev_daily)"
   ]
  },
  {
   "cell_type": "code",
   "execution_count": 551,
   "metadata": {},
   "outputs": [],
   "source": [
    "# MACD Add Function\n",
    "def add_macd(data, header, short, short_lab, long, long_lab):\n",
    "    add_ema(data, header, short, short_lab)\n",
    "    add_ema(data, header, long, long_lab)\n",
    "    data[\"MACD\"] = data.loc[:,short_lab] - data.loc[:,long_lab]"
   ]
  },
  {
   "cell_type": "code",
   "execution_count": 552,
   "metadata": {},
   "outputs": [
    {
     "name": "stdout",
     "output_type": "stream",
     "text": [
      "Before adding MACD\n",
      "            date  1. open  2. high  3. low  4. close   5. volume  6-day SMA  \\\n",
      "5516  1999-11-01    64.50   65.190   63.94     64.87   4018200.0        NaN   \n",
      "5515  1999-11-02    64.94   65.750   64.19     64.25   3909800.0        NaN   \n",
      "5514  1999-11-03    64.75   64.750   62.94     63.00   4876700.0        NaN   \n",
      "5513  1999-11-04    63.88   64.500   63.50     63.50   5136800.0        NaN   \n",
      "5512  1999-11-05    65.50   66.870   65.00     65.06   4981800.0        NaN   \n",
      "...          ...      ...      ...     ...       ...         ...        ...   \n",
      "4     2021-09-28    43.43   44.040   43.06     43.16  60781198.0  41.586667   \n",
      "3     2021-09-29    43.18   43.320   42.74     43.07  44260237.0  42.243333   \n",
      "2     2021-09-30    43.35   43.350   42.23     42.45  47410812.0  42.628333   \n",
      "1     2021-10-01    42.48   43.430   42.39     43.08  40987055.0  42.860000   \n",
      "0     2021-10-04    43.11   44.065   43.07     43.34  48273432.0  43.060000   \n",
      "\n",
      "      50-day SMA  100-day SMA  200-day SMA  6-day EMA  12-day EMA  26-day EMA  \n",
      "5516         NaN          NaN          NaN  64.870000   64.870000   64.870000  \n",
      "5515         NaN          NaN          NaN  64.508333   64.534167   64.548077  \n",
      "5514         NaN          NaN          NaN  63.830275   63.935381   63.991868  \n",
      "5513         NaN          NaN          NaN  63.702703   63.797948   63.854363  \n",
      "5512         NaN          NaN          NaN  64.179076   64.140843   64.133955  \n",
      "...          ...          ...          ...        ...         ...         ...  \n",
      "4        40.3628      40.7969     37.95480  42.030960   41.411257   41.024587  \n",
      "3        40.4704      40.8058     38.02730  42.327829   41.666448   41.176099  \n",
      "2        40.5502      40.8098     38.09845  42.362735   41.786995   41.270462  \n",
      "1        40.6526      40.8249     38.17065  42.567668   41.985919   41.404502  \n",
      "0        40.7654      40.8465     38.24375  42.788334   42.194239   41.547872  \n",
      "\n",
      "[5517 rows x 13 columns]\n",
      "\n",
      "After adding MACD\n",
      "            date  1. open  2. high  3. low  4. close   5. volume  6-day SMA  \\\n",
      "5516  1999-11-01    64.50   65.190   63.94     64.87   4018200.0        NaN   \n",
      "5515  1999-11-02    64.94   65.750   64.19     64.25   3909800.0        NaN   \n",
      "5514  1999-11-03    64.75   64.750   62.94     63.00   4876700.0        NaN   \n",
      "5513  1999-11-04    63.88   64.500   63.50     63.50   5136800.0        NaN   \n",
      "5512  1999-11-05    65.50   66.870   65.00     65.06   4981800.0        NaN   \n",
      "...          ...      ...      ...     ...       ...         ...        ...   \n",
      "4     2021-09-28    43.43   44.040   43.06     43.16  60781198.0  41.586667   \n",
      "3     2021-09-29    43.18   43.320   42.74     43.07  44260237.0  42.243333   \n",
      "2     2021-09-30    43.35   43.350   42.23     42.45  47410812.0  42.628333   \n",
      "1     2021-10-01    42.48   43.430   42.39     43.08  40987055.0  42.860000   \n",
      "0     2021-10-04    43.11   44.065   43.07     43.34  48273432.0  43.060000   \n",
      "\n",
      "      50-day SMA  100-day SMA  200-day SMA  6-day EMA  12-day EMA  26-day EMA  \\\n",
      "5516         NaN          NaN          NaN  64.870000   64.870000   64.870000   \n",
      "5515         NaN          NaN          NaN  64.508333   64.534167   64.548077   \n",
      "5514         NaN          NaN          NaN  63.830275   63.935381   63.991868   \n",
      "5513         NaN          NaN          NaN  63.702703   63.797948   63.854363   \n",
      "5512         NaN          NaN          NaN  64.179076   64.140843   64.133955   \n",
      "...          ...          ...          ...        ...         ...         ...   \n",
      "4        40.3628      40.7969     37.95480  42.030960   41.411257   41.024587   \n",
      "3        40.4704      40.8058     38.02730  42.327829   41.666448   41.176099   \n",
      "2        40.5502      40.8098     38.09845  42.362735   41.786995   41.270462   \n",
      "1        40.6526      40.8249     38.17065  42.567668   41.985919   41.404502   \n",
      "0        40.7654      40.8465     38.24375  42.788334   42.194239   41.547872   \n",
      "\n",
      "          MACD  \n",
      "5516  0.000000  \n",
      "5515 -0.013910  \n",
      "5514 -0.056487  \n",
      "5513 -0.056415  \n",
      "5512  0.006888  \n",
      "...        ...  \n",
      "4     0.386670  \n",
      "3     0.490349  \n",
      "2     0.516533  \n",
      "1     0.581417  \n",
      "0     0.646367  \n",
      "\n",
      "[5517 rows x 14 columns]\n"
     ]
    }
   ],
   "source": [
    "# Test MACD Add Function\n",
    "header = \"4. close\"\n",
    "short = 12\n",
    "long = 26\n",
    "short_lab = \"{}-day EMA\".format(short)\n",
    "long_lab = \"{}-day EMA\".format(long)\n",
    "rev_daily = rev_daily.drop(columns=[\"MACD\"])\n",
    "print(\"Before adding MACD\")\n",
    "print(rev_daily)\n",
    "add_macd(rev_daily, header, short, short_lab, long, long_lab)\n",
    "print(\"\\nAfter adding MACD\")\n",
    "print(rev_daily)"
   ]
  },
  {
   "cell_type": "code",
   "execution_count": 553,
   "metadata": {},
   "outputs": [
    {
     "name": "stdout",
     "output_type": "stream",
     "text": [
      "            date  1. open  2. high  3. low  4. close   5. volume  6-day SMA  \\\n",
      "5516  1999-11-01    64.50   65.190   63.94     64.87   4018200.0        NaN   \n",
      "5515  1999-11-02    64.94   65.750   64.19     64.25   3909800.0        NaN   \n",
      "5514  1999-11-03    64.75   64.750   62.94     63.00   4876700.0        NaN   \n",
      "5513  1999-11-04    63.88   64.500   63.50     63.50   5136800.0        NaN   \n",
      "5512  1999-11-05    65.50   66.870   65.00     65.06   4981800.0        NaN   \n",
      "...          ...      ...      ...     ...       ...         ...        ...   \n",
      "4     2021-09-28    43.43   44.040   43.06     43.16  60781198.0  41.586667   \n",
      "3     2021-09-29    43.18   43.320   42.74     43.07  44260237.0  42.243333   \n",
      "2     2021-09-30    43.35   43.350   42.23     42.45  47410812.0  42.628333   \n",
      "1     2021-10-01    42.48   43.430   42.39     43.08  40987055.0  42.860000   \n",
      "0     2021-10-04    43.11   44.065   43.07     43.34  48273432.0  43.060000   \n",
      "\n",
      "      50-day SMA  100-day SMA  200-day SMA  6-day EMA  12-day EMA  26-day EMA  \\\n",
      "5516         NaN          NaN          NaN  64.870000   64.870000   64.870000   \n",
      "5515         NaN          NaN          NaN  64.508333   64.534167   64.548077   \n",
      "5514         NaN          NaN          NaN  63.830275   63.935381   63.991868   \n",
      "5513         NaN          NaN          NaN  63.702703   63.797948   63.854363   \n",
      "5512         NaN          NaN          NaN  64.179076   64.140843   64.133955   \n",
      "...          ...          ...          ...        ...         ...         ...   \n",
      "4        40.3628      40.7969     37.95480  42.030960   41.411257   41.024587   \n",
      "3        40.4704      40.8058     38.02730  42.327829   41.666448   41.176099   \n",
      "2        40.5502      40.8098     38.09845  42.362735   41.786995   41.270462   \n",
      "1        40.6526      40.8249     38.17065  42.567668   41.985919   41.404502   \n",
      "0        40.7654      40.8465     38.24375  42.788334   42.194239   41.547872   \n",
      "\n",
      "          MACD  9-day MACD EMA  \n",
      "5516  0.000000        0.000000  \n",
      "5515 -0.013910       -0.007728  \n",
      "5514 -0.056487       -0.027711  \n",
      "5513 -0.056415       -0.037435  \n",
      "5512  0.006888       -0.024250  \n",
      "...        ...             ...  \n",
      "4     0.386670        0.090717  \n",
      "3     0.490349        0.170644  \n",
      "2     0.516533        0.239822  \n",
      "1     0.581417        0.308141  \n",
      "0     0.646367        0.375786  \n",
      "\n",
      "[5517 rows x 15 columns]\n"
     ]
    }
   ],
   "source": [
    "# MACD signal line\n",
    "macd_sig_head = \"MACD\"\n",
    "macd_sig_len = 9\n",
    "macd_sig_lab = \"9-day MACD EMA\"\n",
    "add_ema(rev_daily, macd_sig_head, macd_sig_len, macd_sig_lab)\n",
    "print(rev_daily)"
   ]
  },
  {
   "cell_type": "markdown",
   "metadata": {},
   "source": [
    "## Plotting MACD"
   ]
  },
  {
   "cell_type": "code",
   "execution_count": 554,
   "metadata": {},
   "outputs": [
    {
     "name": "stdout",
     "output_type": "stream",
     "text": [
      "      index        date  1. open  2. high  3. low  4. close   5. volume  \\\n",
      "0      5516  1999-11-01    64.50   65.190   63.94     64.87   4018200.0   \n",
      "1      5515  1999-11-02    64.94   65.750   64.19     64.25   3909800.0   \n",
      "2      5514  1999-11-03    64.75   64.750   62.94     63.00   4876700.0   \n",
      "3      5513  1999-11-04    63.88   64.500   63.50     63.50   5136800.0   \n",
      "4      5512  1999-11-05    65.50   66.870   65.00     65.06   4981800.0   \n",
      "...     ...         ...      ...      ...     ...       ...         ...   \n",
      "5512      4  2021-09-28    43.43   44.040   43.06     43.16  60781198.0   \n",
      "5513      3  2021-09-29    43.18   43.320   42.74     43.07  44260237.0   \n",
      "5514      2  2021-09-30    43.35   43.350   42.23     42.45  47410812.0   \n",
      "5515      1  2021-10-01    42.48   43.430   42.39     43.08  40987055.0   \n",
      "5516      0  2021-10-04    43.11   44.065   43.07     43.34  48273432.0   \n",
      "\n",
      "      6-day SMA  50-day SMA  100-day SMA  200-day SMA  6-day EMA  12-day EMA  \\\n",
      "0           NaN         NaN          NaN          NaN  64.870000   64.870000   \n",
      "1           NaN         NaN          NaN          NaN  64.508333   64.534167   \n",
      "2           NaN         NaN          NaN          NaN  63.830275   63.935381   \n",
      "3           NaN         NaN          NaN          NaN  63.702703   63.797948   \n",
      "4           NaN         NaN          NaN          NaN  64.179076   64.140843   \n",
      "...         ...         ...          ...          ...        ...         ...   \n",
      "5512  41.586667     40.3628      40.7969     37.95480  42.030960   41.411257   \n",
      "5513  42.243333     40.4704      40.8058     38.02730  42.327829   41.666448   \n",
      "5514  42.628333     40.5502      40.8098     38.09845  42.362735   41.786995   \n",
      "5515  42.860000     40.6526      40.8249     38.17065  42.567668   41.985919   \n",
      "5516  43.060000     40.7654      40.8465     38.24375  42.788334   42.194239   \n",
      "\n",
      "      26-day EMA      MACD  9-day MACD EMA  \n",
      "0      64.870000  0.000000        0.000000  \n",
      "1      64.548077 -0.013910       -0.007728  \n",
      "2      63.991868 -0.056487       -0.027711  \n",
      "3      63.854363 -0.056415       -0.037435  \n",
      "4      64.133955  0.006888       -0.024250  \n",
      "...          ...       ...             ...  \n",
      "5512   41.024587  0.386670        0.090717  \n",
      "5513   41.176099  0.490349        0.170644  \n",
      "5514   41.270462  0.516533        0.239822  \n",
      "5515   41.404502  0.581417        0.308141  \n",
      "5516   41.547872  0.646367        0.375786  \n",
      "\n",
      "[5517 rows x 16 columns]\n"
     ]
    }
   ],
   "source": [
    "rev_daily = rev_daily.reset_index()\n",
    "print(rev_daily)"
   ]
  },
  {
   "cell_type": "code",
   "execution_count": 555,
   "metadata": {},
   "outputs": [
    {
     "data": {
      "text/plain": [
       "<matplotlib.axes._subplots.AxesSubplot at 0x7facdd6201d0>"
      ]
     },
     "execution_count": 555,
     "metadata": {},
     "output_type": "execute_result"
    },
    {
     "data": {
      "image/png": "[encoded data removed]",
      "text/plain": [
       "<Figure size 432x288 with 1 Axes>"
      ]
     },
     "metadata": {
      "needs_background": "light"
     },
     "output_type": "display_data"
    },
    {
     "data": {
      "image/png": "[encoded data removed]",
      "text/plain": [
       "<Figure size 432x288 with 1 Axes>"
      ]
     },
     "metadata": {
      "needs_background": "light"
     },
     "output_type": "display_data"
    }
   ],
   "source": [
    "num_days = 100\n",
    "end_index = rev_daily[\"index\"][0]\n",
    "start_index = end_index - num_days\n",
    "rev_daily.iloc[start_index:end_index + 1].plot(y=[\"4. close\", \"12-day EMA\", \"26-day EMA\"])\n",
    "rev_daily.iloc[start_index:end_index + 1].plot(y=[\"MACD\", \"9-day MACD EMA\"])"
   ]
  },
  {
   "cell_type": "markdown",
   "metadata": {},
   "source": [
    "## MACD decision points"
   ]
  },
  {
   "cell_type": "code",
   "execution_count": 556,
   "metadata": {},
   "outputs": [
    {
     "name": "stdout",
     "output_type": "stream",
     "text": [
      "      index        date  1. open  2. high  3. low  4. close   5. volume  \\\n",
      "0      5516  1999-11-01    64.50   65.190   63.94     64.87   4018200.0   \n",
      "1      5515  1999-11-02    64.94   65.750   64.19     64.25   3909800.0   \n",
      "2      5514  1999-11-03    64.75   64.750   62.94     63.00   4876700.0   \n",
      "3      5513  1999-11-04    63.88   64.500   63.50     63.50   5136800.0   \n",
      "4      5512  1999-11-05    65.50   66.870   65.00     65.06   4981800.0   \n",
      "...     ...         ...      ...      ...     ...       ...         ...   \n",
      "5512      4  2021-09-28    43.43   44.040   43.06     43.16  60781198.0   \n",
      "5513      3  2021-09-29    43.18   43.320   42.74     43.07  44260237.0   \n",
      "5514      2  2021-09-30    43.35   43.350   42.23     42.45  47410812.0   \n",
      "5515      1  2021-10-01    42.48   43.430   42.39     43.08  40987055.0   \n",
      "5516      0  2021-10-04    43.11   44.065   43.07     43.34  48273432.0   \n",
      "\n",
      "      6-day SMA  50-day SMA  100-day SMA  200-day SMA  6-day EMA  12-day EMA  \\\n",
      "0           NaN         NaN          NaN          NaN  64.870000   64.870000   \n",
      "1           NaN         NaN          NaN          NaN  64.508333   64.534167   \n",
      "2           NaN         NaN          NaN          NaN  63.830275   63.935381   \n",
      "3           NaN         NaN          NaN          NaN  63.702703   63.797948   \n",
      "4           NaN         NaN          NaN          NaN  64.179076   64.140843   \n",
      "...         ...         ...          ...          ...        ...         ...   \n",
      "5512  41.586667     40.3628      40.7969     37.95480  42.030960   41.411257   \n",
      "5513  42.243333     40.4704      40.8058     38.02730  42.327829   41.666448   \n",
      "5514  42.628333     40.5502      40.8098     38.09845  42.362735   41.786995   \n",
      "5515  42.860000     40.6526      40.8249     38.17065  42.567668   41.985919   \n",
      "5516  43.060000     40.7654      40.8465     38.24375  42.788334   42.194239   \n",
      "\n",
      "      26-day EMA      MACD  9-day MACD EMA  MACD Signals  MACD Bull  MACD Bear  \n",
      "0      64.870000  0.000000        0.000000      0.000000          0          0  \n",
      "1      64.548077 -0.013910       -0.007728     -0.006182          0          0  \n",
      "2      63.991868 -0.056487       -0.027711     -0.028776          0          0  \n",
      "3      63.854363 -0.056415       -0.037435     -0.018980          0          0  \n",
      "4      64.133955  0.006888       -0.024250      0.031138          1          0  \n",
      "...          ...       ...             ...           ...        ...        ...  \n",
      "5512   41.024587  0.386670        0.090717      0.295953          0          0  \n",
      "5513   41.176099  0.490349        0.170644      0.319706          0          0  \n",
      "5514   41.270462  0.516533        0.239822      0.276711          0          0  \n",
      "5515   41.404502  0.581417        0.308141      0.273276          0          0  \n",
      "5516   41.547872  0.646367        0.375786      0.270581          0          0  \n",
      "\n",
      "[5517 rows x 19 columns]\n"
     ]
    }
   ],
   "source": [
    "rev_daily[\"MACD Signals\"] = rev_daily.loc[:,\"MACD\"] - rev_daily.loc[:,\"9-day MACD EMA\"]\n",
    "#print(rev_daily)\n",
    "rev_daily[\"MACD Bull\"] = np.where((rev_daily[\"MACD Signals\"] > 0) & (rev_daily[\"MACD Signals\"].shift() < 0), 1, 0)\n",
    "#print(rev_daily.loc[rev_daily[\"MACD bull\"] == 1])\n",
    "rev_daily[\"MACD Bear\"] = np.where((rev_daily[\"MACD Signals\"] < 0) & (rev_daily[\"MACD Signals\"].shift() > 0), 1, 0)\n",
    "#print(rev_daily.loc[rev_daily[\"MACD bear\"] == 1])\n",
    "print(rev_daily)"
   ]
  },
  {
   "cell_type": "code",
   "execution_count": 557,
   "metadata": {},
   "outputs": [
    {
     "name": "stdout",
     "output_type": "stream",
     "text": [
      "          MACD  9-day MACD EMA  MACD Change\n",
      "0     0.000000        0.000000          NaN\n",
      "1    -0.013910       -0.007728    -0.013910\n",
      "2    -0.056487       -0.027711    -0.042577\n",
      "3    -0.056415       -0.037435     0.000072\n",
      "4     0.006888       -0.024250     0.063303\n",
      "...        ...             ...          ...\n",
      "5512  0.386670        0.090717     0.147120\n",
      "5513  0.490349        0.170644     0.103679\n",
      "5514  0.516533        0.239822     0.026183\n",
      "5515  0.581417        0.308141     0.064884\n",
      "5516  0.646367        0.375786     0.064950\n",
      "\n",
      "[5517 rows x 3 columns]\n"
     ]
    }
   ],
   "source": [
    "# Change in MACD\n",
    "rev_daily[\"MACD Change\"] = rev_daily[\"MACD\"] - rev_daily[\"MACD\"].shift()\n",
    "print(rev_daily[[\"MACD\", \"9-day MACD EMA\", \"MACD Change\"]])"
   ]
  },
  {
   "cell_type": "code",
   "execution_count": 558,
   "metadata": {},
   "outputs": [
    {
     "data": {
      "text/plain": [
       "<matplotlib.axes._subplots.AxesSubplot at 0x7facdacf88d0>"
      ]
     },
     "execution_count": 558,
     "metadata": {},
     "output_type": "execute_result"
    },
    {
     "data": {
      "image/png": "[encoded data removed]",
      "text/plain": [
       "<Figure size 432x288 with 1 Axes>"
      ]
     },
     "metadata": {
      "needs_background": "light"
     },
     "output_type": "display_data"
    },
    {
     "data": {
      "image/png": "[encoded data removed]",
      "text/plain": [
       "<Figure size 432x288 with 1 Axes>"
      ]
     },
     "metadata": {
      "needs_background": "light"
     },
     "output_type": "display_data"
    },
    {
     "data": {
      "image/png": "[encoded data removed]",
      "text/plain": [
       "<Figure size 432x288 with 1 Axes>"
      ]
     },
     "metadata": {
      "needs_background": "light"
     },
     "output_type": "display_data"
    }
   ],
   "source": [
    "# Plot MACD with decision points\n",
    "rev_daily.iloc[start_index:end_index + 1].plot(y=[\"MACD\", \"9-day MACD EMA\"])\n",
    "rev_daily.iloc[start_index:end_index + 1].plot(y=[\"MACD Bull\", \"MACD Bear\"])\n",
    "rev_daily.iloc[start_index:end_index + 1].plot(y=[\"MACD Change\"])\n",
    "#rev_daily.iloc[start_index:end_index + 1].plot(y=[\"MACD Bull\", \"MACD Bear\"], kind=\"bar\", color=[\"green\", \"red\"])\n",
    "## TODO: Bar charts aren't working properly"
   ]
  },
  {
   "cell_type": "markdown",
   "metadata": {},
   "source": [
    "## RSI"
   ]
  },
  {
   "cell_type": "code",
   "execution_count": 559,
   "metadata": {},
   "outputs": [
    {
     "name": "stdout",
     "output_type": "stream",
     "text": [
      "      index        date  1. open  2. high  3. low  4. close   5. volume  \\\n",
      "0      5516  1999-11-01    64.50   65.190   63.94     64.87   4018200.0   \n",
      "1      5515  1999-11-02    64.94   65.750   64.19     64.25   3909800.0   \n",
      "2      5514  1999-11-03    64.75   64.750   62.94     63.00   4876700.0   \n",
      "3      5513  1999-11-04    63.88   64.500   63.50     63.50   5136800.0   \n",
      "4      5512  1999-11-05    65.50   66.870   65.00     65.06   4981800.0   \n",
      "...     ...         ...      ...      ...     ...       ...         ...   \n",
      "5512      4  2021-09-28    43.43   44.040   43.06     43.16  60781198.0   \n",
      "5513      3  2021-09-29    43.18   43.320   42.74     43.07  44260237.0   \n",
      "5514      2  2021-09-30    43.35   43.350   42.23     42.45  47410812.0   \n",
      "5515      1  2021-10-01    42.48   43.430   42.39     43.08  40987055.0   \n",
      "5516      0  2021-10-04    43.11   44.065   43.07     43.34  48273432.0   \n",
      "\n",
      "      6-day SMA  50-day SMA  100-day SMA  ...  MACD Signals  MACD Bull  \\\n",
      "0           NaN         NaN          NaN  ...      0.000000          0   \n",
      "1           NaN         NaN          NaN  ...     -0.006182          0   \n",
      "2           NaN         NaN          NaN  ...     -0.028776          0   \n",
      "3           NaN         NaN          NaN  ...     -0.018980          0   \n",
      "4           NaN         NaN          NaN  ...      0.031138          1   \n",
      "...         ...         ...          ...  ...           ...        ...   \n",
      "5512  41.586667     40.3628      40.7969  ...      0.295953          0   \n",
      "5513  42.243333     40.4704      40.8058  ...      0.319706          0   \n",
      "5514  42.628333     40.5502      40.8098  ...      0.276711          0   \n",
      "5515  42.860000     40.6526      40.8249  ...      0.273276          0   \n",
      "5516  43.060000     40.7654      40.8465  ...      0.270581          0   \n",
      "\n",
      "      MACD Bear  MACD Change  Close Change  Up Changes  Down Changes  \\\n",
      "0             0          NaN           NaN        0.00          0.00   \n",
      "1             0    -0.013910         -0.62        0.00          0.62   \n",
      "2             0    -0.042577         -1.25        0.00          1.25   \n",
      "3             0     0.000072          0.50        0.50          0.00   \n",
      "4             0     0.063303          1.56        1.56          0.00   \n",
      "...         ...          ...           ...         ...           ...   \n",
      "5512          0     0.147120         -0.10        0.00          0.10   \n",
      "5513          0     0.103679         -0.09        0.00          0.09   \n",
      "5514          0     0.026183         -0.62        0.00          0.62   \n",
      "5515          0     0.064884          0.63        0.63          0.00   \n",
      "5516          0     0.064950          0.26        0.26          0.00   \n",
      "\n",
      "        Up Avg  Down Avg        RSI  \n",
      "0          NaN       NaN        NaN  \n",
      "1          NaN       NaN        NaN  \n",
      "2          NaN       NaN        NaN  \n",
      "3          NaN       NaN        NaN  \n",
      "4          NaN       NaN        NaN  \n",
      "...        ...       ...        ...  \n",
      "5512  0.402143  0.232143  63.400901  \n",
      "5513  0.391429  0.238571  62.131519  \n",
      "5514  0.391429  0.235714  62.414579  \n",
      "5515  0.388571  0.235714  62.242563  \n",
      "5516  0.407143  0.157143  72.151899  \n",
      "\n",
      "[5517 rows x 26 columns]\n"
     ]
    }
   ],
   "source": [
    "# RSI - Relative Strength Indicator\n",
    "# Magnitude of recent price changes, indicate overbought or oversold conditions\n",
    "# Oscillator with values from 0 to 100\n",
    "# Over-bought/over-valued: RSI >= 70\n",
    "# Under-bought/under-valued: RSI <= 30\n",
    "# Need change in price per period\n",
    "rev_daily[\"Close Change\"] = rev_daily[\"4. close\"] - rev_daily[\"4. close\"].shift()\n",
    "rev_daily[\"Up Changes\"] = np.where(rev_daily[\"Close Change\"] > 0, rev_daily[\"Close Change\"], 0)\n",
    "rev_daily[\"Down Changes\"] = np.where(rev_daily[\"Close Change\"] < 0, abs(rev_daily[\"Close Change\"]), 0)\n",
    "rsi_length = 14\n",
    "add_sma(rev_daily, \"Up Changes\", rsi_length, \"Up Avg\")\n",
    "add_sma(rev_daily, \"Down Changes\", rsi_length, \"Down Avg\")\n",
    "rev_daily[\"RSI\"] = 100 - (100 / (1 + (rev_daily[\"Up Avg\"] / rev_daily[\"Down Avg\"])))\n",
    "print(rev_daily)"
   ]
  },
  {
   "cell_type": "code",
   "execution_count": 567,
   "metadata": {},
   "outputs": [],
   "source": [
    "# RSI Add Function\n",
    "def add_rsi(data, header, length, label):\n",
    "    data[\"Close Change\"] = data[header] - data[header].shift()\n",
    "    data[\"Up Changes\"] = np.where(data[\"Close Change\"] > 0, data[\"Close Change\"], 0)\n",
    "    data[\"Down Changes\"] = np.where(data[\"Close Change\"] < 0, abs(data[\"Close Change\"]), 0)\n",
    "    add_sma(data, \"Up Changes\", length, \"Up Avg\")\n",
    "    add_sma(data, \"Down Changes\", length, \"Down Avg\")\n",
    "    data[label] = 100 - (100 / (1 + (data[\"Up Avg\"] / data[\"Down Avg\"])))\n",
    "    data = data.drop(columns=[\"Close Change\", \"Up Changes\", \"Down Changes\", \"Up Avg\", \"Down Avg\"])"
   ]
  },
  {
   "cell_type": "code",
   "execution_count": 568,
   "metadata": {},
   "outputs": [
    {
     "name": "stdout",
     "output_type": "stream",
     "text": [
      "Before adding RSI\n",
      "      index        date  1. open  2. high  3. low  4. close   5. volume  \\\n",
      "0      5516  1999-11-01    64.50   65.190   63.94     64.87   4018200.0   \n",
      "1      5515  1999-11-02    64.94   65.750   64.19     64.25   3909800.0   \n",
      "2      5514  1999-11-03    64.75   64.750   62.94     63.00   4876700.0   \n",
      "3      5513  1999-11-04    63.88   64.500   63.50     63.50   5136800.0   \n",
      "4      5512  1999-11-05    65.50   66.870   65.00     65.06   4981800.0   \n",
      "...     ...         ...      ...      ...     ...       ...         ...   \n",
      "5512      4  2021-09-28    43.43   44.040   43.06     43.16  60781198.0   \n",
      "5513      3  2021-09-29    43.18   43.320   42.74     43.07  44260237.0   \n",
      "5514      2  2021-09-30    43.35   43.350   42.23     42.45  47410812.0   \n",
      "5515      1  2021-10-01    42.48   43.430   42.39     43.08  40987055.0   \n",
      "5516      0  2021-10-04    43.11   44.065   43.07     43.34  48273432.0   \n",
      "\n",
      "      6-day SMA  50-day SMA  100-day SMA  ...      MACD  9-day MACD EMA  \\\n",
      "0           NaN         NaN          NaN  ...  0.000000        0.000000   \n",
      "1           NaN         NaN          NaN  ... -0.013910       -0.007728   \n",
      "2           NaN         NaN          NaN  ... -0.056487       -0.027711   \n",
      "3           NaN         NaN          NaN  ... -0.056415       -0.037435   \n",
      "4           NaN         NaN          NaN  ...  0.006888       -0.024250   \n",
      "...         ...         ...          ...  ...       ...             ...   \n",
      "5512  41.586667     40.3628      40.7969  ...  0.386670        0.090717   \n",
      "5513  42.243333     40.4704      40.8058  ...  0.490349        0.170644   \n",
      "5514  42.628333     40.5502      40.8098  ...  0.516533        0.239822   \n",
      "5515  42.860000     40.6526      40.8249  ...  0.581417        0.308141   \n",
      "5516  43.060000     40.7654      40.8465  ...  0.646367        0.375786   \n",
      "\n",
      "      MACD Signals  MACD Bull  MACD Bear  MACD Change        RSI  14-day RSI  \\\n",
      "0         0.000000          0          0          NaN        NaN         NaN   \n",
      "1        -0.006182          0          0    -0.013910        NaN         NaN   \n",
      "2        -0.028776          0          0    -0.042577        NaN         NaN   \n",
      "3        -0.018980          0          0     0.000072        NaN         NaN   \n",
      "4         0.031138          1          0     0.063303        NaN         NaN   \n",
      "...            ...        ...        ...          ...        ...         ...   \n",
      "5512      0.295953          0          0     0.147120  63.400901   63.400901   \n",
      "5513      0.319706          0          0     0.103679  62.131519   62.131519   \n",
      "5514      0.276711          0          0     0.026183  62.414579   62.414579   \n",
      "5515      0.273276          0          0     0.064884  62.242563   62.242563   \n",
      "5516      0.270581          0          0     0.064950  72.151899   72.151899   \n",
      "\n",
      "      RSI Overbought  RSI Oversold  \n",
      "0                  0             0  \n",
      "1                  0             0  \n",
      "2                  0             0  \n",
      "3                  0             0  \n",
      "4                  0             0  \n",
      "...              ...           ...  \n",
      "5512               0             0  \n",
      "5513               0             0  \n",
      "5514               0             0  \n",
      "5515               0             0  \n",
      "5516               1             0  \n",
      "\n",
      "[5517 rows x 24 columns]\n",
      "\n",
      "After adding RSI\n",
      "      index        date  1. open  2. high  3. low  4. close   5. volume  \\\n",
      "0      5516  1999-11-01    64.50   65.190   63.94     64.87   4018200.0   \n",
      "1      5515  1999-11-02    64.94   65.750   64.19     64.25   3909800.0   \n",
      "2      5514  1999-11-03    64.75   64.750   62.94     63.00   4876700.0   \n",
      "3      5513  1999-11-04    63.88   64.500   63.50     63.50   5136800.0   \n",
      "4      5512  1999-11-05    65.50   66.870   65.00     65.06   4981800.0   \n",
      "...     ...         ...      ...      ...     ...       ...         ...   \n",
      "5512      4  2021-09-28    43.43   44.040   43.06     43.16  60781198.0   \n",
      "5513      3  2021-09-29    43.18   43.320   42.74     43.07  44260237.0   \n",
      "5514      2  2021-09-30    43.35   43.350   42.23     42.45  47410812.0   \n",
      "5515      1  2021-10-01    42.48   43.430   42.39     43.08  40987055.0   \n",
      "5516      0  2021-10-04    43.11   44.065   43.07     43.34  48273432.0   \n",
      "\n",
      "      6-day SMA  50-day SMA  100-day SMA  ...  MACD Change        RSI  \\\n",
      "0           NaN         NaN          NaN  ...          NaN        NaN   \n",
      "1           NaN         NaN          NaN  ...    -0.013910        NaN   \n",
      "2           NaN         NaN          NaN  ...    -0.042577        NaN   \n",
      "3           NaN         NaN          NaN  ...     0.000072        NaN   \n",
      "4           NaN         NaN          NaN  ...     0.063303        NaN   \n",
      "...         ...         ...          ...  ...          ...        ...   \n",
      "5512  41.586667     40.3628      40.7969  ...     0.147120  63.400901   \n",
      "5513  42.243333     40.4704      40.8058  ...     0.103679  62.131519   \n",
      "5514  42.628333     40.5502      40.8098  ...     0.026183  62.414579   \n",
      "5515  42.860000     40.6526      40.8249  ...     0.064884  62.242563   \n",
      "5516  43.060000     40.7654      40.8465  ...     0.064950  72.151899   \n",
      "\n",
      "      14-day RSI  RSI Overbought  RSI Oversold  Close Change  Up Changes  \\\n",
      "0            NaN               0             0           NaN        0.00   \n",
      "1            NaN               0             0         -0.62        0.00   \n",
      "2            NaN               0             0         -1.25        0.00   \n",
      "3            NaN               0             0          0.50        0.50   \n",
      "4            NaN               0             0          1.56        1.56   \n",
      "...          ...             ...           ...           ...         ...   \n",
      "5512   63.400901               0             0         -0.10        0.00   \n",
      "5513   62.131519               0             0         -0.09        0.00   \n",
      "5514   62.414579               0             0         -0.62        0.00   \n",
      "5515   62.242563               0             0          0.63        0.63   \n",
      "5516   72.151899               1             0          0.26        0.26   \n",
      "\n",
      "      Down Changes    Up Avg  Down Avg  \n",
      "0             0.00       NaN       NaN  \n",
      "1             0.62       NaN       NaN  \n",
      "2             1.25       NaN       NaN  \n",
      "3             0.00       NaN       NaN  \n",
      "4             0.00       NaN       NaN  \n",
      "...            ...       ...       ...  \n",
      "5512          0.10  0.402143  0.232143  \n",
      "5513          0.09  0.391429  0.238571  \n",
      "5514          0.62  0.391429  0.235714  \n",
      "5515          0.00  0.388571  0.235714  \n",
      "5516          0.00  0.407143  0.157143  \n",
      "\n",
      "[5517 rows x 29 columns]\n"
     ]
    }
   ],
   "source": [
    "# Test RSI Add Function\n",
    "header = \"4. close\"\n",
    "length = 14\n",
    "label = \"14-day RSI\"\n",
    "rev_daily = rev_daily.drop(columns=[\"Close Change\", \"Up Changes\", \"Down Changes\", \"Up Avg\", \"Down Avg\"])\n",
    "print(\"Before adding RSI\")\n",
    "print(rev_daily)\n",
    "add_rsi(rev_daily, header, length, label)\n",
    "print(\"\\nAfter adding RSI\")\n",
    "print(rev_daily)"
   ]
  },
  {
   "cell_type": "markdown",
   "metadata": {},
   "source": [
    "## RSI Decision Points"
   ]
  },
  {
   "cell_type": "code",
   "execution_count": 562,
   "metadata": {},
   "outputs": [
    {
     "name": "stdout",
     "output_type": "stream",
     "text": [
      "      index        date  1. open  2. high  3. low  4. close   5. volume  \\\n",
      "0      5516  1999-11-01    64.50   65.190   63.94     64.87   4018200.0   \n",
      "1      5515  1999-11-02    64.94   65.750   64.19     64.25   3909800.0   \n",
      "2      5514  1999-11-03    64.75   64.750   62.94     63.00   4876700.0   \n",
      "3      5513  1999-11-04    63.88   64.500   63.50     63.50   5136800.0   \n",
      "4      5512  1999-11-05    65.50   66.870   65.00     65.06   4981800.0   \n",
      "...     ...         ...      ...      ...     ...       ...         ...   \n",
      "5512      4  2021-09-28    43.43   44.040   43.06     43.16  60781198.0   \n",
      "5513      3  2021-09-29    43.18   43.320   42.74     43.07  44260237.0   \n",
      "5514      2  2021-09-30    43.35   43.350   42.23     42.45  47410812.0   \n",
      "5515      1  2021-10-01    42.48   43.430   42.39     43.08  40987055.0   \n",
      "5516      0  2021-10-04    43.11   44.065   43.07     43.34  48273432.0   \n",
      "\n",
      "      6-day SMA  50-day SMA  100-day SMA  ...  MACD Change        RSI  \\\n",
      "0           NaN         NaN          NaN  ...          NaN        NaN   \n",
      "1           NaN         NaN          NaN  ...    -0.013910        NaN   \n",
      "2           NaN         NaN          NaN  ...    -0.042577        NaN   \n",
      "3           NaN         NaN          NaN  ...     0.000072        NaN   \n",
      "4           NaN         NaN          NaN  ...     0.063303        NaN   \n",
      "...         ...         ...          ...  ...          ...        ...   \n",
      "5512  41.586667     40.3628      40.7969  ...     0.147120  63.400901   \n",
      "5513  42.243333     40.4704      40.8058  ...     0.103679  62.131519   \n",
      "5514  42.628333     40.5502      40.8098  ...     0.026183  62.414579   \n",
      "5515  42.860000     40.6526      40.8249  ...     0.064884  62.242563   \n",
      "5516  43.060000     40.7654      40.8465  ...     0.064950  72.151899   \n",
      "\n",
      "      Close Change  Up Changes  Down Changes    Up Avg  Down Avg  14-day RSI  \\\n",
      "0              NaN        0.00          0.00       NaN       NaN         NaN   \n",
      "1            -0.62        0.00          0.62       NaN       NaN         NaN   \n",
      "2            -1.25        0.00          1.25       NaN       NaN         NaN   \n",
      "3             0.50        0.50          0.00       NaN       NaN         NaN   \n",
      "4             1.56        1.56          0.00       NaN       NaN         NaN   \n",
      "...            ...         ...           ...       ...       ...         ...   \n",
      "5512         -0.10        0.00          0.10  0.402143  0.232143   63.400901   \n",
      "5513         -0.09        0.00          0.09  0.391429  0.238571   62.131519   \n",
      "5514         -0.62        0.00          0.62  0.391429  0.235714   62.414579   \n",
      "5515          0.63        0.63          0.00  0.388571  0.235714   62.242563   \n",
      "5516          0.26        0.26          0.00  0.407143  0.157143   72.151899   \n",
      "\n",
      "      RSI Overbought  RSI Oversold  \n",
      "0                  0             0  \n",
      "1                  0             0  \n",
      "2                  0             0  \n",
      "3                  0             0  \n",
      "4                  0             0  \n",
      "...              ...           ...  \n",
      "5512               0             0  \n",
      "5513               0             0  \n",
      "5514               0             0  \n",
      "5515               0             0  \n",
      "5516               1             0  \n",
      "\n",
      "[5517 rows x 29 columns]\n"
     ]
    }
   ],
   "source": [
    "rev_daily[\"RSI Overbought\"] = np.where(rev_daily[\"RSI\"] >= 70, 1, 0)\n",
    "rev_daily[\"RSI Oversold\"] = np.where(rev_daily[\"RSI\"] <= 30, 1, 0)\n",
    "print(rev_daily)"
   ]
  },
  {
   "cell_type": "code",
   "execution_count": 563,
   "metadata": {},
   "outputs": [
    {
     "data": {
      "text/plain": [
       "<matplotlib.axes._subplots.AxesSubplot at 0x7facdb298790>"
      ]
     },
     "execution_count": 563,
     "metadata": {},
     "output_type": "execute_result"
    },
    {
     "data": {
      "image/png": "[encoded data removed]",
      "text/plain": [
       "<Figure size 432x288 with 1 Axes>"
      ]
     },
     "metadata": {
      "needs_background": "light"
     },
     "output_type": "display_data"
    },
    {
     "data": {
      "image/png": "[encoded data removed]",
      "text/plain": [
       "<Figure size 432x288 with 1 Axes>"
      ]
     },
     "metadata": {
      "needs_background": "light"
     },
     "output_type": "display_data"
    }
   ],
   "source": [
    "# Plot RSI with decision points\n",
    "rev_daily.iloc[start_index:end_index + 1].plot(y=[\"RSI\"])\n",
    "rev_daily.iloc[start_index:end_index + 1].plot(y=[\"RSI Overbought\", \"RSI Oversold\"])\n",
    "#rev_daily.iloc[start_index:end_index + 1].plot(y=[\"RSI Overbought\", \"RSI Oversold\"], kind=\"bar\", color=[\"red\", \"green\"])"
   ]
  },
  {
   "cell_type": "code",
   "execution_count": 564,
   "metadata": {},
   "outputs": [
    {
     "data": {
      "text/plain": [
       "<matplotlib.axes._subplots.AxesSubplot at 0x7facddbf36d0>"
      ]
     },
     "execution_count": 564,
     "metadata": {},
     "output_type": "execute_result"
    },
    {
     "data": {
      "image/png": "[encoded data removed]",
      "text/plain": [
       "<Figure size 432x288 with 1 Axes>"
      ]
     },
     "metadata": {
      "needs_background": "light"
     },
     "output_type": "display_data"
    },
    {
     "data": {
      "image/png": "[encoded data removed]",
      "text/plain": [
       "<Figure size 432x288 with 1 Axes>"
      ]
     },
     "metadata": {
      "needs_background": "light"
     },
     "output_type": "display_data"
    },
    {
     "data": {
      "image/png": "[encoded data removed]",
      "text/plain": [
       "<Figure size 432x288 with 1 Axes>"
      ]
     },
     "metadata": {
      "needs_background": "light"
     },
     "output_type": "display_data"
    },
    {
     "data": {
      "image/png": "[encoded data removed]",
      "text/plain": [
       "<Figure size 432x288 with 1 Axes>"
      ]
     },
     "metadata": {
      "needs_background": "light"
     },
     "output_type": "display_data"
    },
    {
     "data": {
      "image/png": "[encoded data removed]",
      "text/plain": [
       "<Figure size 432x288 with 1 Axes>"
      ]
     },
     "metadata": {
      "needs_background": "light"
     },
     "output_type": "display_data"
    }
   ],
   "source": [
    "# All plots together\n",
    "num_days = 100\n",
    "end_index = rev_daily[\"index\"][0]\n",
    "start_index = end_index - num_days\n",
    "rev_daily.iloc[start_index:end_index + 1].plot(y=[\"4. close\", \"12-day EMA\", \"26-day EMA\"])\n",
    "rev_daily.iloc[start_index:end_index + 1].plot(y=[\"MACD\", \"9-day MACD EMA\"])\n",
    "rev_daily.iloc[start_index:end_index + 1].plot(y=[\"MACD Bull\", \"MACD Bear\"], color=[\"g\", \"r\"])\n",
    "rev_daily.iloc[start_index:end_index + 1].plot(y=[\"RSI\"])\n",
    "rev_daily.iloc[start_index:end_index + 1].plot(y=[\"RSI Overbought\", \"RSI Oversold\"], color=[\"g\", \"r\"])"
   ]
  },
  {
   "cell_type": "code",
   "execution_count": null,
   "metadata": {},
   "outputs": [],
   "source": []
  }
 ],
 "metadata": {
  "kernelspec": {
   "display_name": "Python 3",
   "language": "python",
   "name": "python3"
  },
  "language_info": {
   "codemirror_mode": {
    "name": "ipython",
    "version": 3
   },
   "file_extension": ".py",
   "mimetype": "text/x-python",
   "name": "python",
   "nbconvert_exporter": "python",
   "pygments_lexer": "ipython3",
   "version": "3.7.6"
  }
 },
 "nbformat": 4,
 "nbformat_minor": 4
}
